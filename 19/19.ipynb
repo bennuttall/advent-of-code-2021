{
 "cells": [
  {
   "cell_type": "code",
   "execution_count": 1,
   "id": "0e2fa8c8",
   "metadata": {},
   "outputs": [],
   "source": [
    "def get_rotations(x, y, z):\n",
    "    return [\n",
    "        (x, y, z),\n",
    "        (-y, x, z),\n",
    "        (-x, -y, z),\n",
    "        (y, -x, z),\n",
    "    ]\n",
    "\n",
    "def get_z_orientations(x, y, z):\n",
    "    return [\n",
    "        (x, y, z),\n",
    "        (x, z, -y),\n",
    "        (x, -y, -z),\n",
    "        (x, -z, y),\n",
    "        (-z, y, x),\n",
    "        (z, y, -x),\n",
    "    ]\n",
    "    \n",
    "def get_orientations(x, y, z):\n",
    "    for xi, yi, zi in get_z_orientations(x, y, z):\n",
    "        yield from get_rotations(xi, yi, zi)"
   ]
  },
  {
   "cell_type": "code",
   "execution_count": 2,
   "id": "bf24f8f9",
   "metadata": {},
   "outputs": [],
   "source": [
    "from itertools import product\n",
    "\n",
    "class Scanner:\n",
    "    def __init__(self, n, positions):\n",
    "        self.n = n\n",
    "        self.orientations = [[] for i in range(24)]\n",
    "        for x, y, z in positions:\n",
    "            for p, pos in enumerate(get_orientations(x, y, z)):\n",
    "                self.orientations[p].append(pos)\n",
    "        self.fixed_beacons = None\n",
    "        self.pos = None\n",
    "        \n",
    "    def __repr__(self):\n",
    "        return f\"<Scanner {self.n}>\"\n",
    "        \n",
    "    def pairing_mode(self, scanners):\n",
    "        if self.fixed_beacons is not None:\n",
    "            return\n",
    "        for scanner in scanners:\n",
    "            if scanner.fixed_beacons is None:\n",
    "                continue\n",
    "            if self.find_overlap(scanner):\n",
    "                return\n",
    "                \n",
    "    def find_overlap(self, other):\n",
    "        for orientation in self.orientations:\n",
    "            for fx, fy, fz in other.fixed_beacons:\n",
    "                for bx, by, bz in orientation:\n",
    "                    dx, dy, dz = (fx - bx, fy - by, fz - bz)\n",
    "                    shifted_beacons = {(x + dx, y + dy, z + dz) for x, y, z in orientation}\n",
    "                    common_beacons = shifted_beacons & other.fixed_beacons\n",
    "                    if len(common_beacons) >= 12:\n",
    "                        self.fixed_beacons = shifted_beacons\n",
    "                        ox, oy, oz = other.pos\n",
    "                        self.pos = (dx, dy, dz)\n",
    "                        return True\n",
    "                    \n",
    "    def distance_to(self, other):\n",
    "        ax, ay, az = self.pos\n",
    "        bx, by, bz = other.pos\n",
    "        return abs(ax - bx) + abs(ay - by) + abs(az - bz)"
   ]
  },
  {
   "cell_type": "code",
   "execution_count": 3,
   "id": "ef13f1d9",
   "metadata": {},
   "outputs": [],
   "source": [
    "scanners = []\n",
    "with open('input') as f:\n",
    "    for n, block in enumerate(f.read().split('\\n\\n')):\n",
    "        lines = block.split('\\n')\n",
    "        positions = []\n",
    "        for line in lines[1:]:\n",
    "            pos = tuple(int(i) for i in line.strip().split(',') if line.strip())\n",
    "            if pos:\n",
    "                positions.append(pos)\n",
    "        scanners.append(Scanner(n, positions))\n",
    "\n",
    "s = scanners[0]\n",
    "s.fixed_beacons = set(s.orientations[0])\n",
    "s.pos = (0, 0, 0)"
   ]
  },
  {
   "cell_type": "code",
   "execution_count": 4,
   "id": "2938b081",
   "metadata": {},
   "outputs": [],
   "source": [
    "while len([s for s in scanners if s.fixed_beacons is None]):\n",
    "    for scanner in scanners:\n",
    "        scanner.pairing_mode(scanners)"
   ]
  },
  {
   "cell_type": "code",
   "execution_count": 5,
   "id": "a9b9b0b9",
   "metadata": {},
   "outputs": [
    {
     "name": "stdout",
     "output_type": "stream",
     "text": [
      "Part 1:\n",
      "430\n"
     ]
    }
   ],
   "source": [
    "beacons = set()\n",
    "for scanner in scanners:\n",
    "    beacons |= scanner.fixed_beacons\n",
    "        \n",
    "print(\"Part 1:\")\n",
    "print(len(beacons))"
   ]
  },
  {
   "cell_type": "code",
   "execution_count": 6,
   "id": "7aa2443d",
   "metadata": {},
   "outputs": [
    {
     "name": "stdout",
     "output_type": "stream",
     "text": [
      "Part 2:\n",
      "11860\n"
     ]
    }
   ],
   "source": [
    "from itertools import permutations\n",
    "\n",
    "print(\"Part 2:\")\n",
    "print(max(a.distance_to(b) for a, b in permutations(scanners, 2)))"
   ]
  }
 ],
 "metadata": {
  "kernelspec": {
   "display_name": "Python 3",
   "language": "python",
   "name": "python3"
  },
  "language_info": {
   "codemirror_mode": {
    "name": "ipython",
    "version": 3
   },
   "file_extension": ".py",
   "mimetype": "text/x-python",
   "name": "python",
   "nbconvert_exporter": "python",
   "pygments_lexer": "ipython3",
   "version": "3.10.1"
  }
 },
 "nbformat": 4,
 "nbformat_minor": 5
}
