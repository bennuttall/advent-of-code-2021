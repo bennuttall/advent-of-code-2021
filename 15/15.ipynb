{
 "cells": [
  {
   "cell_type": "code",
   "execution_count": 1,
   "id": "d40cacf7",
   "metadata": {},
   "outputs": [],
   "source": [
    "def silly_mod_9(n):\n",
    "    return n if n < 10 else n % 9"
   ]
  },
  {
   "cell_type": "code",
   "execution_count": 2,
   "id": "ef13f1d9",
   "metadata": {},
   "outputs": [],
   "source": [
    "base_tile = {}\n",
    "positions = set()\n",
    "with open('input') as f:\n",
    "    for y, line in enumerate(f):\n",
    "        for x, cell in enumerate(line.strip()):\n",
    "            base_tile[(x, y)] = int(cell)\n",
    "            positions.add((x, y))\n",
    "START = (0, 0)\n",
    "FINISH = (x, y)\n",
    "SIZE = x + 1\n",
    "\n",
    "big_map = {}\n",
    "big_positions = set()\n",
    "for row in range(5):\n",
    "    for col in range(5):\n",
    "        for (x, y), v in base_tile.items():\n",
    "            pos = (col * SIZE + x, row * SIZE + y)\n",
    "            big_map[pos] = silly_mod_9(v + row + col)\n",
    "            big_positions.add(pos)\n",
    "BIG_FINISH = pos\n",
    "BIG_SIZE = pos[0] + 1"
   ]
  },
  {
   "cell_type": "code",
   "execution_count": 3,
   "id": "cc327550",
   "metadata": {},
   "outputs": [],
   "source": [
    "class Node:\n",
    "    def __init__(self, pos, value, positions):\n",
    "        self.pos = pos\n",
    "        self.positions = positions\n",
    "        self.f = 0\n",
    "        self.g = value\n",
    "    \n",
    "    def __gt__(self, other):\n",
    "        return self.g > other.g\n",
    "        \n",
    "    @property\n",
    "    def neighbours(self):\n",
    "        x, y = self.pos\n",
    "        return {(x, y - 1), (x + 1, y), (x, y + 1), (x - 1, y)} & self.positions"
   ]
  },
  {
   "cell_type": "code",
   "execution_count": 4,
   "id": "e0932d33",
   "metadata": {},
   "outputs": [],
   "source": [
    "import math\n",
    "\n",
    "def get_lowest_risk(map, positions, start, finish):\n",
    "    closed_positions = set()\n",
    "    open_positions = {start}\n",
    "    nodes = {\n",
    "        start: Node(pos=start, value=0, positions=positions),\n",
    "        finish: Node(pos=finish, value=map[finish], positions=positions),\n",
    "    }\n",
    "    fx, fy = finish\n",
    "\n",
    "    while len(open_positions) > 0:\n",
    "        pos = sorted(open_positions, key=lambda n: nodes[n].f)[0]\n",
    "        if pos == finish:\n",
    "            return nodes[finish].g\n",
    "            \n",
    "        node = nodes[pos]\n",
    "        open_positions.discard(pos)\n",
    "        closed_positions.add(pos)\n",
    "            \n",
    "        neighbours = node.neighbours - closed_positions\n",
    "        for next_pos in neighbours:\n",
    "            value = node.g + map[next_pos]\n",
    "            neighbour = Node(next_pos, value, positions)\n",
    "            nx, ny = next_pos\n",
    "            h = math.sqrt(((nx - fx) ** 2) + ((ny - fy) ** 2))\n",
    "            neighbour.f = value + h\n",
    "            \n",
    "            if next_pos in open_positions and neighbour > nodes[next_pos]:\n",
    "                continue\n",
    "                    \n",
    "            open_positions.add(next_pos)\n",
    "            nodes[next_pos] = neighbour"
   ]
  },
  {
   "cell_type": "code",
   "execution_count": 5,
   "id": "2df4fd38",
   "metadata": {},
   "outputs": [
    {
     "name": "stdout",
     "output_type": "stream",
     "text": [
      "Part 1:\n",
      "673\n"
     ]
    }
   ],
   "source": [
    "print(\"Part 1:\")\n",
    "print(get_lowest_risk(base_tile, positions, START, FINISH))"
   ]
  },
  {
   "cell_type": "code",
   "execution_count": 6,
   "id": "d0f623ce",
   "metadata": {},
   "outputs": [
    {
     "name": "stdout",
     "output_type": "stream",
     "text": [
      "Part 2:\n",
      "2893\n"
     ]
    }
   ],
   "source": [
    "print(\"Part 2:\")\n",
    "print(get_lowest_risk(big_map, big_positions, START, BIG_FINISH))"
   ]
  }
 ],
 "metadata": {
  "kernelspec": {
   "display_name": "Python 3",
   "language": "python",
   "name": "python3"
  },
  "language_info": {
   "codemirror_mode": {
    "name": "ipython",
    "version": 3
   },
   "file_extension": ".py",
   "mimetype": "text/x-python",
   "name": "python",
   "nbconvert_exporter": "python",
   "pygments_lexer": "ipython3",
   "version": "3.10.1"
  }
 },
 "nbformat": 4,
 "nbformat_minor": 5
}
