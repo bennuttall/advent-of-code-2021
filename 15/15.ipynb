{
 "cells": [
  {
   "cell_type": "code",
   "execution_count": 1,
   "id": "ef13f1d9",
   "metadata": {},
   "outputs": [],
   "source": [
    "base_tile = {}\n",
    "positions = set()\n",
    "with open('input') as f:\n",
    "    for y, line in enumerate(f):\n",
    "        for x, cell in enumerate(line.strip()):\n",
    "            base_tile[(x, y)] = int(cell)\n",
    "            positions.add((x, y))\n",
    "START = (0, 0)\n",
    "FINISH = (x, y)\n",
    "SIZE = x + 1"
   ]
  },
  {
   "cell_type": "code",
   "execution_count": 2,
   "id": "20117804",
   "metadata": {},
   "outputs": [],
   "source": [
    "def get_neighbours(x, y, positions):\n",
    "    return {(x, y - 1), (x - 1, y)} & positions"
   ]
  },
  {
   "cell_type": "code",
   "execution_count": 3,
   "id": "2ef6a0c1",
   "metadata": {},
   "outputs": [],
   "source": [
    "def get_risks(map, size, positions):\n",
    "    risks = {START: 0}\n",
    "    for y in range(size):\n",
    "        for x in range(size):\n",
    "            neighbours = get_neighbours(x, y, positions)\n",
    "            if neighbours:\n",
    "                risks[(x, y)] = map[(x, y)] + min([risks[pos] for pos in neighbours])\n",
    "    return risks"
   ]
  },
  {
   "cell_type": "code",
   "execution_count": 4,
   "id": "2b84f691",
   "metadata": {},
   "outputs": [
    {
     "name": "stdout",
     "output_type": "stream",
     "text": [
      "Part 1:\n",
      "673\n"
     ]
    }
   ],
   "source": [
    "print(\"Part 1:\")\n",
    "risks = get_risks(base_tile, SIZE, positions)\n",
    "print(risks[FINISH])"
   ]
  }
 ],
 "metadata": {
  "kernelspec": {
   "display_name": "Python 3",
   "language": "python",
   "name": "python3"
  },
  "language_info": {
   "codemirror_mode": {
    "name": "ipython",
    "version": 3
   },
   "file_extension": ".py",
   "mimetype": "text/x-python",
   "name": "python",
   "nbconvert_exporter": "python",
   "pygments_lexer": "ipython3",
   "version": "3.10.1"
  }
 },
 "nbformat": 4,
 "nbformat_minor": 5
}
