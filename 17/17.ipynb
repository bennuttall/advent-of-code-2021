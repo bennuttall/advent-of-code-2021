{
 "cells": [
  {
   "cell_type": "code",
   "execution_count": 1,
   "id": "ef13f1d9",
   "metadata": {},
   "outputs": [],
   "source": [
    "from itertools import product\n",
    "\n",
    "target_area = set(product(range(96, 125 + 1), range(-144, -98 + 1)))"
   ]
  },
  {
   "cell_type": "code",
   "execution_count": 2,
   "id": "9392691f",
   "metadata": {},
   "outputs": [],
   "source": [
    "def step(pos, trajectory):\n",
    "    px, py = pos\n",
    "    tx, ty = trajectory\n",
    "    px += tx\n",
    "    py += ty\n",
    "    if tx > 0:\n",
    "        tx -= 1\n",
    "    elif tx < 0:\n",
    "        tx += 1\n",
    "    ty -= 1\n",
    "    return ((px, py), (tx, ty))"
   ]
  },
  {
   "cell_type": "code",
   "execution_count": 3,
   "id": "a714183e",
   "metadata": {},
   "outputs": [],
   "source": [
    "def fire(trajectory):\n",
    "    pos = (0, 0)\n",
    "    target_min_y = min(p[1] for p in target_area)\n",
    "    max_height_reached = 0\n",
    "    \n",
    "    while True:\n",
    "        pos, trajectory = step(pos, trajectory)\n",
    "        max_height_reached = max([pos[1], max_height_reached])\n",
    "        if pos in target_area:\n",
    "            return (True, max_height_reached)\n",
    "        if pos[1] < target_min_y:\n",
    "            return (False, None)"
   ]
  },
  {
   "cell_type": "code",
   "execution_count": 4,
   "id": "387a77c9",
   "metadata": {},
   "outputs": [
    {
     "name": "stdout",
     "output_type": "stream",
     "text": [
      "Part 1:\n",
      "10296\n"
     ]
    }
   ],
   "source": [
    "max_height_reached = 0\n",
    "for x in range(150):\n",
    "    for y in range(-150, 150):\n",
    "        hit, this_max_height_reached = fire((x, y))\n",
    "        if hit and this_max_height_reached > max_height_reached:\n",
    "            max_height_reached = this_max_height_reached\n",
    "            \n",
    "print(\"Part 1:\")\n",
    "print(max_height_reached)"
   ]
  },
  {
   "cell_type": "code",
   "execution_count": 5,
   "id": "f684ff7d",
   "metadata": {},
   "outputs": [
    {
     "name": "stdout",
     "output_type": "stream",
     "text": [
      "Part 2:\n",
      "2371\n"
     ]
    }
   ],
   "source": [
    "hits = set()\n",
    "for x in range(150):\n",
    "    for y in range(-150, 150):\n",
    "        hit, this_max_height_reached = fire((x, y))\n",
    "        if hit:\n",
    "            hits.add((x, y))\n",
    "            \n",
    "print(\"Part 2:\")\n",
    "print(len(hits))"
   ]
  }
 ],
 "metadata": {
  "kernelspec": {
   "display_name": "Python 3",
   "language": "python",
   "name": "python3"
  },
  "language_info": {
   "codemirror_mode": {
    "name": "ipython",
    "version": 3
   },
   "file_extension": ".py",
   "mimetype": "text/x-python",
   "name": "python",
   "nbconvert_exporter": "python",
   "pygments_lexer": "ipython3",
   "version": "3.9.9"
  }
 },
 "nbformat": 4,
 "nbformat_minor": 5
}
