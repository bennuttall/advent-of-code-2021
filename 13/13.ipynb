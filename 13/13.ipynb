{
 "cells": [
  {
   "cell_type": "code",
   "execution_count": 1,
   "id": "98fba6ec",
   "metadata": {},
   "outputs": [],
   "source": [
    "def process(parts):\n",
    "    grid = set()\n",
    "    for line in parts[0].split('\\n'):\n",
    "        a, b = [int(n) for n in line.strip().split(',')]\n",
    "        grid.add((a, b))\n",
    "    folds = []\n",
    "    for line in parts[1].strip().split('\\n'):\n",
    "        xy, n = line.strip().split(' ')[2].split('=')\n",
    "        n = int(n)\n",
    "        folds.append((xy, n))\n",
    "    return grid, folds"
   ]
  },
  {
   "cell_type": "code",
   "execution_count": 2,
   "id": "ef13f1d9",
   "metadata": {},
   "outputs": [],
   "source": [
    "with open('input') as f:\n",
    "    grid, folds = process(f.read().split('\\n\\n'))"
   ]
  },
  {
   "cell_type": "code",
   "execution_count": 3,
   "id": "d0a65f36",
   "metadata": {},
   "outputs": [],
   "source": [
    "def fold(grid, xy, n):\n",
    "    if xy == 'x':\n",
    "        return {(x, y) for x, y in grid if x < n} | {(2 * n - x, y) for x, y in grid if x > n}\n",
    "    else:\n",
    "        return {(x, y) for x, y in grid if y < n} | {(x, 2 * n - y) for x, y in grid if y > n}"
   ]
  },
  {
   "cell_type": "code",
   "execution_count": 4,
   "id": "4774f654",
   "metadata": {},
   "outputs": [
    {
     "name": "stdout",
     "output_type": "stream",
     "text": [
      "Part 1:\n",
      "618\n"
     ]
    }
   ],
   "source": [
    "xy, n = folds[0]\n",
    "print(\"Part 1:\")\n",
    "print(len(fold(grid, xy, n)))"
   ]
  },
  {
   "cell_type": "code",
   "execution_count": 5,
   "id": "261450a9",
   "metadata": {},
   "outputs": [],
   "source": [
    "def display_grid():\n",
    "    max_x = max([pos[0] for pos in grid])\n",
    "    max_y = max([pos[1] for pos in grid])\n",
    "    \n",
    "    for y in range(max_y + 1):\n",
    "        for x in range(max_x + 1):\n",
    "            if (x, y) in grid:\n",
    "                print('█', end='')\n",
    "            else:\n",
    "                print(' ', end='')\n",
    "        print()"
   ]
  },
  {
   "cell_type": "code",
   "execution_count": 6,
   "id": "8afd3ba1",
   "metadata": {
    "scrolled": false
   },
   "outputs": [],
   "source": [
    "for xy, n in folds:\n",
    "    grid = fold(grid, xy, n)"
   ]
  },
  {
   "cell_type": "code",
   "execution_count": 7,
   "id": "1d55700b",
   "metadata": {},
   "outputs": [
    {
     "name": "stdout",
     "output_type": "stream",
     "text": [
      "Part 2:\n",
      " ██  █    ███  ████ █  █ ████ █  █ █  █\n",
      "█  █ █    █  █ █    █ █  █    █ █  █  █\n",
      "█  █ █    █  █ ███  ██   ███  ██   █  █\n",
      "████ █    ███  █    █ █  █    █ █  █  █\n",
      "█  █ █    █ █  █    █ █  █    █ █  █  █\n",
      "█  █ ████ █  █ ████ █  █ █    █  █  ██ \n"
     ]
    }
   ],
   "source": [
    "print(\"Part 2:\")\n",
    "display_grid()"
   ]
  }
 ],
 "metadata": {
  "kernelspec": {
   "display_name": "Python 3",
   "language": "python",
   "name": "python3"
  },
  "language_info": {
   "codemirror_mode": {
    "name": "ipython",
    "version": 3
   },
   "file_extension": ".py",
   "mimetype": "text/x-python",
   "name": "python",
   "nbconvert_exporter": "python",
   "pygments_lexer": "ipython3",
   "version": "3.10.1"
  }
 },
 "nbformat": 4,
 "nbformat_minor": 5
}
