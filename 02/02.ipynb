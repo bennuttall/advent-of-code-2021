{
 "cells": [
  {
   "cell_type": "code",
   "execution_count": 1,
   "id": "8795e76c",
   "metadata": {},
   "outputs": [],
   "source": [
    "def process(line):\n",
    "    a, b = line.split()\n",
    "    return (a, int(b))"
   ]
  },
  {
   "cell_type": "code",
   "execution_count": 2,
   "id": "cfb854fa",
   "metadata": {},
   "outputs": [],
   "source": [
    "with open('input') as f:\n",
    "    data = [process(line.strip()) for line in f]"
   ]
  },
  {
   "cell_type": "code",
   "execution_count": 3,
   "id": "908af1ef",
   "metadata": {},
   "outputs": [
    {
     "name": "stdout",
     "output_type": "stream",
     "text": [
      "Part 1:\n",
      "1893605\n"
     ]
    }
   ],
   "source": [
    "depth = horizontal = 0\n",
    "\n",
    "for direction, n in data:\n",
    "    match direction:\n",
    "        case 'forward':\n",
    "            horizontal += n\n",
    "        case 'down':\n",
    "            depth += n\n",
    "        case 'up':\n",
    "            depth -= n\n",
    "print(\"Part 1:\")\n",
    "print(depth * horizontal)"
   ]
  },
  {
   "cell_type": "code",
   "execution_count": 4,
   "id": "8df90569",
   "metadata": {},
   "outputs": [
    {
     "name": "stdout",
     "output_type": "stream",
     "text": [
      "Part 2:\n",
      "2120734350\n"
     ]
    }
   ],
   "source": [
    "depth = horizontal = aim = 0\n",
    "for direction, n in data:\n",
    "    match direction:\n",
    "        case 'down':\n",
    "            aim += n\n",
    "        case 'up':\n",
    "            aim -= n\n",
    "        case 'forward':\n",
    "            horizontal += n\n",
    "            depth += aim * n\n",
    "print(\"Part 2:\")\n",
    "print(depth * horizontal)"
   ]
  }
 ],
 "metadata": {
  "kernelspec": {
   "display_name": "Python 3",
   "language": "python",
   "name": "python3"
  },
  "language_info": {
   "codemirror_mode": {
    "name": "ipython",
    "version": 3
   },
   "file_extension": ".py",
   "mimetype": "text/x-python",
   "name": "python",
   "nbconvert_exporter": "python",
   "pygments_lexer": "ipython3",
   "version": "3.10.0"
  }
 },
 "nbformat": 4,
 "nbformat_minor": 5
}
