{
 "cells": [
  {
   "cell_type": "code",
   "execution_count": 1,
   "id": "8795e76c",
   "metadata": {},
   "outputs": [],
   "source": [
    "def process(line):\n",
    "    a, b = line.split()\n",
    "    return (a, int(b))"
   ]
  },
  {
   "cell_type": "code",
   "execution_count": 2,
   "id": "cfb854fa",
   "metadata": {},
   "outputs": [],
   "source": [
    "with open('input') as f:\n",
    "    data = [process(line.strip()) for line in f]"
   ]
  },
  {
   "cell_type": "code",
   "execution_count": 3,
   "id": "908af1ef",
   "metadata": {},
   "outputs": [
    {
     "name": "stdout",
     "output_type": "stream",
     "text": [
      "Part 1:\n",
      "1893605\n"
     ]
    }
   ],
   "source": [
    "d, h = (0, 0)\n",
    "for direction, n in data:\n",
    "    if direction == 'forward':\n",
    "        h += n\n",
    "    elif direction == 'down':\n",
    "        d += n\n",
    "    elif direction == 'up':\n",
    "        d -= n\n",
    "print(\"Part 1:\")\n",
    "print(d * h)"
   ]
  },
  {
   "cell_type": "code",
   "execution_count": 4,
   "id": "8df90569",
   "metadata": {},
   "outputs": [
    {
     "name": "stdout",
     "output_type": "stream",
     "text": [
      "Part 2:\n",
      "2120734350\n"
     ]
    }
   ],
   "source": [
    "d, h = (0, 0)\n",
    "aim = 0\n",
    "for direction, n in data:\n",
    "    if direction == 'down':\n",
    "        aim += n\n",
    "    elif direction == 'up':\n",
    "        aim -= n\n",
    "    elif direction == 'forward':\n",
    "        h += n\n",
    "        d += aim * n\n",
    "print(\"Part 2:\")\n",
    "print(d * h)"
   ]
  }
 ],
 "metadata": {
  "kernelspec": {
   "display_name": "Python 3",
   "language": "python",
   "name": "python3"
  },
  "language_info": {
   "codemirror_mode": {
    "name": "ipython",
    "version": 3
   },
   "file_extension": ".py",
   "mimetype": "text/x-python",
   "name": "python",
   "nbconvert_exporter": "python",
   "pygments_lexer": "ipython3",
   "version": "3.10.0"
  }
 },
 "nbformat": 4,
 "nbformat_minor": 5
}
