{
 "cells": [
  {
   "cell_type": "code",
   "execution_count": 1,
   "id": "ef13f1d9",
   "metadata": {},
   "outputs": [],
   "source": [
    "with open('input') as f:\n",
    "    data = [line.strip() for line in f]"
   ]
  },
  {
   "cell_type": "code",
   "execution_count": 2,
   "id": "9b5ba145",
   "metadata": {},
   "outputs": [],
   "source": [
    "from collections import Counter\n",
    "\n",
    "gamma = ''\n",
    "epsilon = ''\n",
    "for i in range(len(data[0])):\n",
    "    c = Counter(d[i] for d in data)\n",
    "    gamma += c.most_common(1)[0][0]\n",
    "    epsilon += c.most_common()[-1][0]"
   ]
  },
  {
   "cell_type": "code",
   "execution_count": 3,
   "id": "bcbaaaa2",
   "metadata": {},
   "outputs": [
    {
     "name": "stdout",
     "output_type": "stream",
     "text": [
      "Part 1:\n",
      "775304\n"
     ]
    }
   ],
   "source": [
    "print(\"Part 1:\")\n",
    "print(int(gamma, 2) * int(epsilon, 2))"
   ]
  },
  {
   "cell_type": "code",
   "execution_count": 4,
   "id": "b46a29c2",
   "metadata": {
    "scrolled": false
   },
   "outputs": [],
   "source": [
    "def get_oxygen_generator_rating(data):\n",
    "    this_data = data.copy()\n",
    "    for digit_num in range(len(data[0])):\n",
    "        c = Counter(d[digit_num] for d in this_data)\n",
    "        mc = c.most_common()\n",
    "        if mc[0][1] == mc[1][1]:\n",
    "            mcd = '1'\n",
    "        else:\n",
    "            mcd = mc[0][0]\n",
    "        this_data = [d for d in this_data if d[digit_num] == mcd]\n",
    "        if len(this_data) == 1:\n",
    "            return this_data[0]"
   ]
  },
  {
   "cell_type": "code",
   "execution_count": 5,
   "id": "267161b6",
   "metadata": {},
   "outputs": [],
   "source": [
    "def get_co2_rating(data):\n",
    "    this_data = data.copy()\n",
    "    for digit_num in range(len(data[0])):\n",
    "        c = Counter(d[digit_num] for d in this_data)\n",
    "        mc = c.most_common()\n",
    "        if len(mc) > 1 and mc[-1][1] == mc[-2][1]:\n",
    "            lcd = '0'\n",
    "        else:\n",
    "            lcd = mc[-1][0]\n",
    "        this_data = [d for d in this_data if d[digit_num] == lcd]\n",
    "        if len(this_data) == 1:\n",
    "            return this_data[0]"
   ]
  },
  {
   "cell_type": "code",
   "execution_count": 6,
   "id": "34af81ed",
   "metadata": {},
   "outputs": [],
   "source": [
    "o = get_oxygen_generator_rating(data)\n",
    "c = get_co2_rating(data)"
   ]
  },
  {
   "cell_type": "code",
   "execution_count": 7,
   "id": "1501071e",
   "metadata": {},
   "outputs": [
    {
     "name": "stdout",
     "output_type": "stream",
     "text": [
      "Part 2:\n",
      "1370737\n"
     ]
    }
   ],
   "source": [
    "print(\"Part 2:\")\n",
    "print(int(o, 2) * int(c, 2))"
   ]
  }
 ],
 "metadata": {
  "kernelspec": {
   "display_name": "Python 3",
   "language": "python",
   "name": "python3"
  },
  "language_info": {
   "codemirror_mode": {
    "name": "ipython",
    "version": 3
   },
   "file_extension": ".py",
   "mimetype": "text/x-python",
   "name": "python",
   "nbconvert_exporter": "python",
   "pygments_lexer": "ipython3",
   "version": "3.10.0"
  }
 },
 "nbformat": 4,
 "nbformat_minor": 5
}
