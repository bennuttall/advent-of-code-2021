{
 "cells": [
  {
   "cell_type": "code",
   "execution_count": 1,
   "id": "252988b2",
   "metadata": {},
   "outputs": [],
   "source": [
    "class Board:\n",
    "    def __init__(self, lines):\n",
    "        self.lines = lines\n",
    "        \n",
    "    @property\n",
    "    def numbers(self):\n",
    "        numbers = set()\n",
    "        for line in self.lines:\n",
    "            numbers |= line\n",
    "        return numbers\n",
    "        \n",
    "    @property\n",
    "    def bingo(self):\n",
    "        for line in self.lines:\n",
    "            if line < numbers_called:\n",
    "                return True\n",
    "        return False\n",
    "    \n",
    "    @property\n",
    "    def sum_of_unmarked(self):\n",
    "        unmarked = self.numbers - numbers_called\n",
    "        return sum(unmarked)"
   ]
  },
  {
   "cell_type": "code",
   "execution_count": 2,
   "id": "2e289a20",
   "metadata": {},
   "outputs": [],
   "source": [
    "def process(f):\n",
    "    yield [int(d) for d in f[0].split(',')]\n",
    "    for block in f[1:]:\n",
    "        d = {}\n",
    "        for y, row in enumerate(block.split('\\n')):\n",
    "            for x, n in enumerate(row.strip().split()):\n",
    "                d[(x, y)] = int(n)\n",
    "        lines = []\n",
    "        for x in range(5):\n",
    "            lines.append({d[(x, y)] for y in range(5)})\n",
    "        for y in range(5):\n",
    "            lines.append({d[(x, y)] for x in range(5)})\n",
    "        yield Board(lines)"
   ]
  },
  {
   "cell_type": "code",
   "execution_count": 3,
   "id": "ef13f1d9",
   "metadata": {},
   "outputs": [],
   "source": [
    "with open('input') as f:\n",
    "    numbers, *boards = process(f.read().split('\\n\\n'))"
   ]
  },
  {
   "cell_type": "code",
   "execution_count": 4,
   "id": "ca6d7ac6",
   "metadata": {},
   "outputs": [],
   "source": [
    "def play():\n",
    "    for number in numbers:\n",
    "        numbers_called.add(number)\n",
    "        for board in boards:\n",
    "            if board.bingo:\n",
    "                return number, board"
   ]
  },
  {
   "cell_type": "code",
   "execution_count": 5,
   "id": "78af236b",
   "metadata": {},
   "outputs": [
    {
     "name": "stdout",
     "output_type": "stream",
     "text": [
      "Part 1:\n",
      "8580\n"
     ]
    }
   ],
   "source": [
    "numbers_called = set()\n",
    "number, board = play()\n",
    "print(\"Part 1:\")\n",
    "print(board.sum_of_unmarked * number)"
   ]
  },
  {
   "cell_type": "code",
   "execution_count": 6,
   "id": "441c7b84",
   "metadata": {},
   "outputs": [],
   "source": [
    "def play_all(boards):\n",
    "    for number in numbers:\n",
    "        numbers_called.add(number)\n",
    "        won = [board for board in boards if board.bingo]\n",
    "        boards = [board for board in boards if not board.bingo]\n",
    "        if len(boards) == 0:\n",
    "            return number, won[0]"
   ]
  },
  {
   "cell_type": "code",
   "execution_count": 7,
   "id": "e4419ad0",
   "metadata": {},
   "outputs": [
    {
     "name": "stdout",
     "output_type": "stream",
     "text": [
      "Part 2:\n",
      "9576\n"
     ]
    }
   ],
   "source": [
    "numbers_called = set()\n",
    "number, board = play_all(boards)\n",
    "print(\"Part 2:\")\n",
    "print(board.sum_of_unmarked * number)"
   ]
  }
 ],
 "metadata": {
  "kernelspec": {
   "display_name": "Python 3",
   "language": "python",
   "name": "python3"
  },
  "language_info": {
   "codemirror_mode": {
    "name": "ipython",
    "version": 3
   },
   "file_extension": ".py",
   "mimetype": "text/x-python",
   "name": "python",
   "nbconvert_exporter": "python",
   "pygments_lexer": "ipython3",
   "version": "3.10.0"
  }
 },
 "nbformat": 4,
 "nbformat_minor": 5
}
