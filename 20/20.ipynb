{
 "cells": [
  {
   "cell_type": "code",
   "execution_count": 1,
   "id": "ef13f1d9",
   "metadata": {},
   "outputs": [],
   "source": [
    "with open('input') as f:\n",
    "    algorithm, _, *input_image = [line.strip() for line in f]\n",
    "\n",
    "pixels = set()\n",
    "for y, row in enumerate(input_image):\n",
    "    for x, cell in enumerate(row):\n",
    "        if cell == '#':\n",
    "            pixels.add((x, y))"
   ]
  },
  {
   "cell_type": "code",
   "execution_count": 2,
   "id": "1e4445ec",
   "metadata": {},
   "outputs": [],
   "source": [
    "def get_neighbours(x, y):\n",
    "    return [\n",
    "        (x - 1, y - 1), (x, y - 1), (x + 1, y - 1),\n",
    "        (x - 1, y    ), (x, y    ), (x + 1, y    ),\n",
    "        (x - 1, y + 1), (x, y + 1), (x + 1, y + 1),\n",
    "    ]"
   ]
  },
  {
   "cell_type": "code",
   "execution_count": 3,
   "id": "8b0c0dbf",
   "metadata": {},
   "outputs": [],
   "source": [
    "def get_bit(x, y, pixels, boundary, outside_on):\n",
    "    if outside_on:\n",
    "        return '1' if (x, y) in pixels or (x, y) not in boundary else '0'\n",
    "    else:\n",
    "        return '1' if (x, y) in pixels else '0'"
   ]
  },
  {
   "cell_type": "code",
   "execution_count": 4,
   "id": "a1223bef",
   "metadata": {},
   "outputs": [],
   "source": [
    "def enhance(pixels, outside_on=False):\n",
    "    new_pixels = set()\n",
    "    min_x = min([p[0] for p in pixels])\n",
    "    min_y = min([p[1] for p in pixels])\n",
    "    max_x = max([p[0] for p in pixels])\n",
    "    max_y = max([p[1] for p in pixels])\n",
    "    boundary = {\n",
    "        (x, y) \n",
    "        for x in range(min_x, max_x + 1)\n",
    "        for y in range(min_y, max_y + 1)\n",
    "    }\n",
    "    for y in range(min_y - 1, max_y + 2):\n",
    "        for x in range(min_x - 1, max_x + 2):\n",
    "            s = ''.join([\n",
    "                get_bit(x2, y2, pixels, boundary, outside_on)\n",
    "                for (x2, y2) in get_neighbours(x, y)\n",
    "            ])\n",
    "            b = int(s, 2)\n",
    "            if algorithm[b] == '#':\n",
    "                new_pixels.add((x, y))\n",
    "    return new_pixels"
   ]
  },
  {
   "cell_type": "code",
   "execution_count": 5,
   "id": "dd86f164",
   "metadata": {},
   "outputs": [],
   "source": [
    "def draw_image():\n",
    "    min_x = min([p[0] for p in pixels])\n",
    "    min_y = min([p[1] for p in pixels])\n",
    "    max_x = max([p[0] for p in pixels])\n",
    "    max_y = max([p[1] for p in pixels])\n",
    "    for y in range(min_y, max_y + 1):\n",
    "        for x in range(min_x, max_x + 1):\n",
    "            if (x, y) in pixels:\n",
    "                print('#', end='')\n",
    "            else:\n",
    "                print(' ', end='')\n",
    "        print()"
   ]
  },
  {
   "cell_type": "code",
   "execution_count": 6,
   "id": "73743332",
   "metadata": {},
   "outputs": [
    {
     "name": "stdout",
     "output_type": "stream",
     "text": [
      "Part 1:\n",
      "5498\n",
      "Part 2:\n",
      "16014\n"
     ]
    }
   ],
   "source": [
    "for i in range(50):\n",
    "    pixels = enhance(pixels, outside_on=i%2==1)\n",
    "    if i == 1:\n",
    "        part_1 = len(pixels)\n",
    "part_2 = len(pixels)\n",
    "\n",
    "print(\"Part 1:\")\n",
    "print(part_1)\n",
    "print(\"Part 2:\")\n",
    "print(part_2)"
   ]
  }
 ],
 "metadata": {
  "kernelspec": {
   "display_name": "Python 3",
   "language": "python",
   "name": "python3"
  },
  "language_info": {
   "codemirror_mode": {
    "name": "ipython",
    "version": 3
   },
   "file_extension": ".py",
   "mimetype": "text/x-python",
   "name": "python",
   "nbconvert_exporter": "python",
   "pygments_lexer": "ipython3",
   "version": "3.10.1"
  }
 },
 "nbformat": 4,
 "nbformat_minor": 5
}
