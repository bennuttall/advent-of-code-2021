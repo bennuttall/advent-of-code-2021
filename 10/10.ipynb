{
 "cells": [
  {
   "cell_type": "code",
   "execution_count": 1,
   "id": "ef13f1d9",
   "metadata": {},
   "outputs": [],
   "source": [
    "with open('input') as f:\n",
    "    data = [line.strip() for line in f]"
   ]
  },
  {
   "cell_type": "code",
   "execution_count": 2,
   "id": "c90216d1",
   "metadata": {},
   "outputs": [],
   "source": [
    "SCORES = {\n",
    "    ')': 3,\n",
    "    ']': 57,\n",
    "    '}': 1197,\n",
    "    '>': 25137,\n",
    "}"
   ]
  },
  {
   "cell_type": "code",
   "execution_count": 3,
   "id": "6692e824",
   "metadata": {},
   "outputs": [],
   "source": [
    "PAIRS = {\n",
    "    ')': '(',\n",
    "    ']': '[',\n",
    "    '}': '{',\n",
    "    '>': '<',\n",
    "}"
   ]
  },
  {
   "cell_type": "code",
   "execution_count": 4,
   "id": "cbaf40c3",
   "metadata": {},
   "outputs": [
    {
     "name": "stdout",
     "output_type": "stream",
     "text": [
      "Part 1:\n",
      "323613\n"
     ]
    }
   ],
   "source": [
    "score = 0\n",
    "for line in data:\n",
    "    opened = []\n",
    "    for char in line:\n",
    "        if char in '([{<':\n",
    "            opened.append(char)\n",
    "        elif char in ')]}>':\n",
    "            if len(opened) > 0 and opened[-1] == PAIRS[char]:\n",
    "                opened.pop()\n",
    "            else:\n",
    "                score += SCORES[char]\n",
    "                break\n",
    "\n",
    "print(\"Part 1:\")\n",
    "print(score)"
   ]
  },
  {
   "cell_type": "code",
   "execution_count": 5,
   "id": "6dcbcd39",
   "metadata": {},
   "outputs": [],
   "source": [
    "SCORES_2 = {\n",
    "    '(': 1,\n",
    "    '[': 2,\n",
    "    '{': 3,\n",
    "    '<': 4,\n",
    "}"
   ]
  },
  {
   "cell_type": "code",
   "execution_count": 6,
   "id": "cde7233e",
   "metadata": {},
   "outputs": [
    {
     "name": "stdout",
     "output_type": "stream",
     "text": [
      "Part 2:\n",
      "3103006161\n"
     ]
    }
   ],
   "source": [
    "scores = []\n",
    "for line in data:\n",
    "    inc = True\n",
    "    opened = []\n",
    "    for char in line:\n",
    "        if char in '([{<':\n",
    "            opened.append(char)\n",
    "        elif char in ')]}>':\n",
    "            if len(opened) > 0 and opened[-1] == PAIRS[char]:\n",
    "                opened.pop()\n",
    "            else:\n",
    "                inc = False\n",
    "                break\n",
    "    if inc:\n",
    "        score = 0\n",
    "        for char in reversed(opened):\n",
    "            score *= 5\n",
    "            score += SCORES_2[char]\n",
    "        scores.append(score)\n",
    "        \n",
    "print(\"Part 2:\")\n",
    "print(sorted(scores)[(len(scores) - 1) // 2])"
   ]
  }
 ],
 "metadata": {
  "kernelspec": {
   "display_name": "Python 3",
   "language": "python",
   "name": "python3"
  },
  "language_info": {
   "codemirror_mode": {
    "name": "ipython",
    "version": 3
   },
   "file_extension": ".py",
   "mimetype": "text/x-python",
   "name": "python",
   "nbconvert_exporter": "python",
   "pygments_lexer": "ipython3",
   "version": "3.10.0"
  }
 },
 "nbformat": 4,
 "nbformat_minor": 5
}
