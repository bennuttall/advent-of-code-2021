{
 "cells": [
  {
   "cell_type": "code",
   "execution_count": 1,
   "id": "118b6e3e",
   "metadata": {},
   "outputs": [],
   "source": [
    "def hex_to_bin(hex):\n",
    "    b = ''\n",
    "    for d in hex:\n",
    "        b += f'{int(d, 16):04b}'\n",
    "    return b"
   ]
  },
  {
   "cell_type": "code",
   "execution_count": 2,
   "id": "ef13f1d9",
   "metadata": {},
   "outputs": [],
   "source": [
    "with open('input') as f:\n",
    "    data = hex_to_bin(f.read().strip())"
   ]
  },
  {
   "cell_type": "code",
   "execution_count": 3,
   "id": "e0a89699",
   "metadata": {},
   "outputs": [],
   "source": [
    "from itertools import zip_longest\n",
    "\n",
    "def grouper(iterable, n, fillvalue=None):\n",
    "    \"Collect data into non-overlapping fixed-length chunks or blocks\"\n",
    "    # grouper('ABCDEFG', 3, 'x') --> ABC DEF Gxx\n",
    "    args = [iter(iterable)] * n\n",
    "    return zip_longest(*args, fillvalue=fillvalue)"
   ]
  },
  {
   "cell_type": "code",
   "execution_count": 4,
   "id": "570b98dc",
   "metadata": {},
   "outputs": [],
   "source": [
    "def decode_for_versions(b):\n",
    "    if len(b) == 0 or int(b, 2) == 0:\n",
    "        return\n",
    "    version = int(b[:3], 2)\n",
    "    yield version\n",
    "    b = b[3:]\n",
    "    packet_type_id = int(b[:3], 2)\n",
    "    b = b[3:]\n",
    "    if packet_type_id == 4:\n",
    "        ns = ''\n",
    "        c = 0\n",
    "        for z, *g in grouper(b, 5):\n",
    "            c += 5\n",
    "            ns += ''.join(g)\n",
    "            if z == '0':\n",
    "                n = int(ns, 2)\n",
    "                break\n",
    "        yield from decode_for_versions(b[c:])\n",
    "    else:\n",
    "        length_type_id = b[0]\n",
    "        b = b[1:]\n",
    "        if length_type_id == '0':\n",
    "            len_sub_packets = int(b[:15], 2)\n",
    "            yield from decode_for_versions(b[15:])\n",
    "        elif length_type_id == '1':\n",
    "            num_sub_packets = int(b[:11], 2)\n",
    "            yield from decode_for_versions(b[11:])"
   ]
  },
  {
   "cell_type": "code",
   "execution_count": 5,
   "id": "11f6f4d1",
   "metadata": {},
   "outputs": [
    {
     "name": "stdout",
     "output_type": "stream",
     "text": [
      "Part 1:\n",
      "965\n"
     ]
    }
   ],
   "source": [
    "print(\"Part 1:\")\n",
    "print(sum(decode_for_versions(data)))"
   ]
  },
  {
   "cell_type": "code",
   "execution_count": 6,
   "id": "1eebc455",
   "metadata": {},
   "outputs": [],
   "source": [
    "from math import prod\n",
    "\n",
    "def operator(packet_type_id, sub_packet_values):\n",
    "    match packet_type_id:\n",
    "        case 0:\n",
    "            return sum(sub_packet_values)\n",
    "        case 1:\n",
    "            return prod(sub_packet_values)\n",
    "        case 2:\n",
    "            return min(sub_packet_values)\n",
    "        case 3:\n",
    "            return max(sub_packet_values)\n",
    "        case 5:\n",
    "            return 1 if sub_packet_values[0] > sub_packet_values[1] else 0\n",
    "        case 6:\n",
    "            return 1 if sub_packet_values[0] < sub_packet_values[1] else 0\n",
    "        case 7:\n",
    "            return 1 if sub_packet_values[0] == sub_packet_values[1] else 0"
   ]
  },
  {
   "cell_type": "code",
   "execution_count": 7,
   "id": "d57d8448",
   "metadata": {},
   "outputs": [],
   "source": [
    "def decode(b):\n",
    "    if len(b) == 0 or int(b, 2) == 0:\n",
    "        return\n",
    "    version = int(b[:3], 2)\n",
    "    b = b[3:]\n",
    "    packet_type_id = int(b[:3], 2)\n",
    "    b = b[3:]\n",
    "    if packet_type_id == 4:\n",
    "        ns = ''\n",
    "        c = 0\n",
    "        for z, *g in grouper(b, 5):\n",
    "            c += 5\n",
    "            ns += ''.join(g)\n",
    "            if z == '0':\n",
    "                n = int(ns, 2)\n",
    "                break\n",
    "        yield n\n",
    "        yield from decode(b[c:])\n",
    "    else:\n",
    "        length_type_id = b[0]\n",
    "        b = b[1:]\n",
    "        if length_type_id == '0':\n",
    "            len_sub_packets = int(b[:15], 2)\n",
    "            b = b[15:]\n",
    "            sub_packet_values = list(decode(b[:len_sub_packets]))\n",
    "            yield operator(packet_type_id, sub_packet_values)\n",
    "            yield from decode(b[len_sub_packets:])\n",
    "        elif length_type_id == '1':\n",
    "            num_sub_packets = int(b[:11], 2)\n",
    "            b = b[11:]\n",
    "            sub_packet_values = list(decode(b))\n",
    "            yield operator(packet_type_id, sub_packet_values[:num_sub_packets])\n",
    "            yield from sub_packet_values[num_sub_packets:]"
   ]
  },
  {
   "cell_type": "code",
   "execution_count": 8,
   "id": "0b580e81",
   "metadata": {},
   "outputs": [
    {
     "name": "stdout",
     "output_type": "stream",
     "text": [
      "Part 2:\n",
      "116672213160\n"
     ]
    }
   ],
   "source": [
    "print(\"Part 2:\")\n",
    "print(list(decode(data))[0])"
   ]
  }
 ],
 "metadata": {
  "kernelspec": {
   "display_name": "Python 3",
   "language": "python",
   "name": "python3"
  },
  "language_info": {
   "codemirror_mode": {
    "name": "ipython",
    "version": 3
   },
   "file_extension": ".py",
   "mimetype": "text/x-python",
   "name": "python",
   "nbconvert_exporter": "python",
   "pygments_lexer": "ipython3",
   "version": "3.10.1"
  }
 },
 "nbformat": 4,
 "nbformat_minor": 5
}
