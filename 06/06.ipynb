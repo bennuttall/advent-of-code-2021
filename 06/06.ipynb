{
 "cells": [
  {
   "cell_type": "code",
   "execution_count": 1,
   "id": "ef47687b",
   "metadata": {},
   "outputs": [],
   "source": [
    "class LanternFish:\n",
    "    def __init__(self, timer):\n",
    "        self.timer = timer\n",
    "        self.children = []\n",
    "        \n",
    "    def __next__(self):\n",
    "        for child in self.children:\n",
    "            next(child)\n",
    "        if self.timer == 0:\n",
    "            self.timer = 6\n",
    "            self.children.append(LanternFish(8))\n",
    "        else:\n",
    "            self.timer -= 1\n",
    "            \n",
    "    def __len__(self):\n",
    "        return 1 + sum(len(child) for child in self.children)"
   ]
  },
  {
   "cell_type": "code",
   "execution_count": 2,
   "id": "ef13f1d9",
   "metadata": {},
   "outputs": [],
   "source": [
    "with open('input') as f:\n",
    "    fishes = [LanternFish(int(n)) for n in f.read().split(',')]"
   ]
  },
  {
   "cell_type": "code",
   "execution_count": 3,
   "id": "3972d17d",
   "metadata": {},
   "outputs": [
    {
     "name": "stdout",
     "output_type": "stream",
     "text": [
      "Part 1:\n",
      "1746\n"
     ]
    }
   ],
   "source": [
    "for i in range(18):\n",
    "    for fish in fishes:\n",
    "        next(fish)\n",
    "        \n",
    "print(\"Part 1:\")\n",
    "print(sum(len(fish) for fish in fishes))"
   ]
  }
 ],
 "metadata": {
  "kernelspec": {
   "display_name": "Python 3",
   "language": "python",
   "name": "python3"
  },
  "language_info": {
   "codemirror_mode": {
    "name": "ipython",
    "version": 3
   },
   "file_extension": ".py",
   "mimetype": "text/x-python",
   "name": "python",
   "nbconvert_exporter": "python",
   "pygments_lexer": "ipython3",
   "version": "3.10.0"
  }
 },
 "nbformat": 4,
 "nbformat_minor": 5
}
