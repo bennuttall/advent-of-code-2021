{
 "cells": [
  {
   "cell_type": "code",
   "execution_count": 1,
   "id": "ef13f1d9",
   "metadata": {},
   "outputs": [],
   "source": [
    "with open('input') as f:\n",
    "    data = f.read()\n",
    "    fish = {\n",
    "        0: data.count('0'),\n",
    "        1: data.count('1'),\n",
    "        2: data.count('2'),\n",
    "        3: data.count('3'),\n",
    "        4: data.count('4'),\n",
    "        5: data.count('5'),\n",
    "        6: data.count('6'),\n",
    "        7: data.count('7'),\n",
    "        8: data.count('8'),\n",
    "    }"
   ]
  },
  {
   "cell_type": "code",
   "execution_count": 2,
   "id": "3739faa2",
   "metadata": {
    "scrolled": false
   },
   "outputs": [],
   "source": [
    "def carpulate(fish, n):\n",
    "    for i in range(n):\n",
    "        fish = {\n",
    "            0: fish[1],\n",
    "            1: fish[2],\n",
    "            2: fish[3],\n",
    "            3: fish[4],\n",
    "            4: fish[5],\n",
    "            5: fish[6],\n",
    "            6: fish[7] + fish[0],\n",
    "            7: fish[8],\n",
    "            8: fish[0],\n",
    "        }\n",
    "    return sum(fish.values())"
   ]
  },
  {
   "cell_type": "code",
   "execution_count": 3,
   "id": "e244a6c8",
   "metadata": {},
   "outputs": [
    {
     "name": "stdout",
     "output_type": "stream",
     "text": [
      "Part 1:\n",
      "374994\n"
     ]
    }
   ],
   "source": [
    "print(\"Part 1:\")\n",
    "print(carpulate(fish, 80))"
   ]
  },
  {
   "cell_type": "code",
   "execution_count": 4,
   "id": "74714e33",
   "metadata": {},
   "outputs": [
    {
     "name": "stdout",
     "output_type": "stream",
     "text": [
      "Part 2:\n",
      "1686252324092\n"
     ]
    }
   ],
   "source": [
    "print(\"Part 2:\")\n",
    "print(carpulate(fish, 256))"
   ]
  }
 ],
 "metadata": {
  "kernelspec": {
   "display_name": "Python 3",
   "language": "python",
   "name": "python3"
  },
  "language_info": {
   "codemirror_mode": {
    "name": "ipython",
    "version": 3
   },
   "file_extension": ".py",
   "mimetype": "text/x-python",
   "name": "python",
   "nbconvert_exporter": "python",
   "pygments_lexer": "ipython3",
   "version": "3.10.0"
  }
 },
 "nbformat": 4,
 "nbformat_minor": 5
}
