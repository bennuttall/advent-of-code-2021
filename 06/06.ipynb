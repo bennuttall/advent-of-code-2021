{
 "cells": [
  {
   "cell_type": "code",
   "execution_count": 1,
   "id": "ef13f1d9",
   "metadata": {},
   "outputs": [],
   "source": [
    "with open('input') as f:\n",
    "    data = f.read()\n",
    "    fish = {n: data.count(str(n)) for n in range(9)}"
   ]
  },
  {
   "cell_type": "code",
   "execution_count": 2,
   "id": "3739faa2",
   "metadata": {
    "scrolled": false
   },
   "outputs": [],
   "source": [
    "def carpulate(fish, n):\n",
    "    for i in range(n):\n",
    "        new = fish[0]\n",
    "        fish = {n: fish[(n+1) % 9] for n in fish}\n",
    "        fish[6] += new\n",
    "    return sum(fish.values())"
   ]
  },
  {
   "cell_type": "code",
   "execution_count": 3,
   "id": "e244a6c8",
   "metadata": {},
   "outputs": [
    {
     "name": "stdout",
     "output_type": "stream",
     "text": [
      "Part 1:\n",
      "374994\n"
     ]
    }
   ],
   "source": [
    "print(\"Part 1:\")\n",
    "print(carpulate(fish, 80))"
   ]
  },
  {
   "cell_type": "code",
   "execution_count": 4,
   "id": "74714e33",
   "metadata": {},
   "outputs": [
    {
     "name": "stdout",
     "output_type": "stream",
     "text": [
      "Part 2:\n",
      "1686252324092\n"
     ]
    }
   ],
   "source": [
    "print(\"Part 2:\")\n",
    "print(carpulate(fish, 256))"
   ]
  }
 ],
 "metadata": {
  "kernelspec": {
   "display_name": "Python 3",
   "language": "python",
   "name": "python3"
  },
  "language_info": {
   "codemirror_mode": {
    "name": "ipython",
    "version": 3
   },
   "file_extension": ".py",
   "mimetype": "text/x-python",
   "name": "python",
   "nbconvert_exporter": "python",
   "pygments_lexer": "ipython3",
   "version": "3.10.0"
  }
 },
 "nbformat": 4,
 "nbformat_minor": 5
}
