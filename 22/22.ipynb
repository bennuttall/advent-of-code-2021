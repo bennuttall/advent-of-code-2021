{
 "cells": [
  {
   "cell_type": "code",
   "execution_count": 1,
   "id": "c2740cc0",
   "metadata": {},
   "outputs": [],
   "source": [
    "def process(line):\n",
    "    on = line.split(' ')[0] == 'on'\n",
    "    x, y, z = line.split(' ')[1].split(',')\n",
    "    x1, x2 = [int(n) for n in x[2:].split('..')]\n",
    "    y1, y2 = [int(n) for n in y[2:].split('..')]\n",
    "    z1, z2 = [int(n) for n in z[2:].split('..')]\n",
    "    return (on, range(x1, x2 + 1), range(y1, y2 + 1), range(z1, z2 + 1))"
   ]
  },
  {
   "cell_type": "code",
   "execution_count": 2,
   "id": "7c783d5a",
   "metadata": {},
   "outputs": [],
   "source": [
    "with open('input') as f:\n",
    "    lines = [process(line.strip()) for line in f]\n",
    "    init_lines = [line for line in lines if len(line[1]) < 1000]"
   ]
  },
  {
   "cell_type": "code",
   "execution_count": 3,
   "id": "92a07466",
   "metadata": {},
   "outputs": [],
   "source": [
    "class Cuboid:\n",
    "    def __init__(self, xr, yr, zr):\n",
    "        self.x = xr\n",
    "        self.y = yr\n",
    "        self.z = zr\n",
    "        self.total = len(xr) * len(yr) * len(zr)\n",
    "        \n",
    "    def overlap(self, other):\n",
    "        x = range(max(self.x[0], other.x[0]), min(self.x[-1], other.x[-1]) + 1)\n",
    "        y = range(max(self.y[0], other.y[0]), min(self.y[-1], other.y[-1]) + 1)\n",
    "        z = range(max(self.z[0], other.z[0]), min(self.z[-1], other.z[-1]) + 1)\n",
    "        if len(x) and len(y) and len(z):\n",
    "            return (x, y, z)"
   ]
  },
  {
   "cell_type": "code",
   "execution_count": 4,
   "id": "b18aad7e",
   "metadata": {},
   "outputs": [],
   "source": [
    "def count(line, rest):\n",
    "    on, xr, yr, zr = line\n",
    "    this = Cuboid(xr, yr, zr)\n",
    "    lights = this.total\n",
    "    overlaps = []\n",
    "    for on2, x2r, y2r, z2r in rest:\n",
    "        other = Cuboid(x2r, y2r, z2r)\n",
    "        overlap = this.overlap(other)\n",
    "        if overlap:\n",
    "            overlaps.append([on2, *overlap])\n",
    "    for o, overlap in enumerate(overlaps):\n",
    "        lights -= count(overlap, overlaps[o + 1:])\n",
    "    return lights"
   ]
  },
  {
   "cell_type": "code",
   "execution_count": 5,
   "id": "5366b71b",
   "metadata": {},
   "outputs": [],
   "source": [
    "def count_lights(lines):\n",
    "    lights = 0\n",
    "    for i, line in enumerate(lines):\n",
    "        if line[0]:\n",
    "            lights += count(line, lines[i + 1:])\n",
    "    return lights"
   ]
  },
  {
   "cell_type": "code",
   "execution_count": 6,
   "id": "6b0fd91d",
   "metadata": {},
   "outputs": [
    {
     "name": "stdout",
     "output_type": "stream",
     "text": [
      "Part 1:\n",
      "542711\n"
     ]
    }
   ],
   "source": [
    "print(\"Part 1:\")\n",
    "print(count_lights(init_lines))"
   ]
  },
  {
   "cell_type": "code",
   "execution_count": 7,
   "id": "f7517066",
   "metadata": {},
   "outputs": [
    {
     "name": "stdout",
     "output_type": "stream",
     "text": [
      "Part 2:\n",
      "1160303042684776\n"
     ]
    }
   ],
   "source": [
    "print(\"Part 2:\")\n",
    "print(count_lights(lines))"
   ]
  }
 ],
 "metadata": {
  "kernelspec": {
   "display_name": "Python 3 (ipykernel)",
   "language": "python",
   "name": "python3"
  },
  "language_info": {
   "codemirror_mode": {
    "name": "ipython",
    "version": 3
   },
   "file_extension": ".py",
   "mimetype": "text/x-python",
   "name": "python",
   "nbconvert_exporter": "python",
   "pygments_lexer": "ipython3",
   "version": "3.9.5"
  }
 },
 "nbformat": 4,
 "nbformat_minor": 5
}
