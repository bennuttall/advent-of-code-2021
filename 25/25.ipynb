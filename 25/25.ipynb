{
 "cells": [
  {
   "cell_type": "code",
   "execution_count": 1,
   "id": "50484470",
   "metadata": {},
   "outputs": [],
   "source": [
    "map = {}\n",
    "with open('input') as f:\n",
    "    for y, line in enumerate(f):\n",
    "        for x, cell in enumerate(line.strip()):\n",
    "            map[(x, y)] = cell\n",
    "WIDTH, HEIGHT = x, y"
   ]
  },
  {
   "cell_type": "code",
   "execution_count": 2,
   "id": "f40d6ca8",
   "metadata": {},
   "outputs": [],
   "source": [
    "def get_next_pos(x, y, map, direction):\n",
    "    if direction == '>':\n",
    "        x2 = 0 if x == WIDTH else x + 1\n",
    "        return (x2, y)\n",
    "    y2 = 0 if y == HEIGHT else y + 1\n",
    "    return (x, y2)"
   ]
  },
  {
   "cell_type": "code",
   "execution_count": 3,
   "id": "72e1a86b",
   "metadata": {},
   "outputs": [],
   "source": [
    "def get_sea_cucumbers(map, direction):\n",
    "    sea_cucumbers = []\n",
    "    for y in range(HEIGHT + 1):\n",
    "        for x in range(WIDTH + 1):\n",
    "            if map[(x, y)] == direction:\n",
    "                next_pos = get_next_pos(x, y, map, direction)\n",
    "                if map[next_pos] == '.':\n",
    "                    sea_cucumbers.append(((x, y), next_pos))\n",
    "    return sea_cucumbers"
   ]
  },
  {
   "cell_type": "code",
   "execution_count": 4,
   "id": "a0bc9cde",
   "metadata": {},
   "outputs": [],
   "source": [
    "def step():\n",
    "    moved = False\n",
    "    for direction in '>v':\n",
    "        for ((x, y), next_pos) in get_sea_cucumbers(map, direction):\n",
    "            map[(x, y)], map[next_pos] = map[next_pos], map[(x, y)]\n",
    "            moved = True\n",
    "    return moved"
   ]
  },
  {
   "cell_type": "code",
   "execution_count": 5,
   "id": "cd5e6e91",
   "metadata": {
    "scrolled": false
   },
   "outputs": [
    {
     "name": "stdout",
     "output_type": "stream",
     "text": [
      "Part 1:\n",
      "360\n"
     ]
    }
   ],
   "source": [
    "steps = 0\n",
    "moved = True\n",
    "while moved:\n",
    "    moved = step()\n",
    "    steps += 1\n",
    "\n",
    "print(\"Part 1:\")\n",
    "print(steps)"
   ]
  }
 ],
 "metadata": {
  "kernelspec": {
   "display_name": "Python 3 (ipykernel)",
   "language": "python",
   "name": "python3"
  },
  "language_info": {
   "codemirror_mode": {
    "name": "ipython",
    "version": 3
   },
   "file_extension": ".py",
   "mimetype": "text/x-python",
   "name": "python",
   "nbconvert_exporter": "python",
   "pygments_lexer": "ipython3",
   "version": "3.9.5"
  }
 },
 "nbformat": 4,
 "nbformat_minor": 5
}
