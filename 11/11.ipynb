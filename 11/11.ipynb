{
 "cells": [
  {
   "cell_type": "code",
   "execution_count": 1,
   "id": "ef13f1d9",
   "metadata": {},
   "outputs": [],
   "source": [
    "map = {}\n",
    "with open('input') as f:\n",
    "    for y, line in enumerate(f):\n",
    "        for x, cell in enumerate(line.strip()):\n",
    "            map[(x, y)] = int(cell)"
   ]
  },
  {
   "cell_type": "code",
   "execution_count": 2,
   "id": "6dd6d68a",
   "metadata": {},
   "outputs": [],
   "source": [
    "from itertools import product\n",
    "\n",
    "def get_neighbours(pos):\n",
    "    x, y = pos\n",
    "    return {(x + dx, y + dy) for (dx, dy) in product([-1, 0, 1], repeat=2)} - {(x, y)}"
   ]
  },
  {
   "cell_type": "code",
   "execution_count": 3,
   "id": "69496758",
   "metadata": {},
   "outputs": [],
   "source": [
    "def flash(map, flashed, to_flash):\n",
    "    new_to_flash = set()\n",
    "    for pos in to_flash:\n",
    "        for neighbour in get_neighbours(pos):\n",
    "            if map.get(neighbour, 0) != 0:\n",
    "                map[neighbour] = (map[neighbour] + 1) % 10\n",
    "                if map[neighbour] == 0 and neighbour not in flashed:\n",
    "                    new_to_flash.add(neighbour)\n",
    "                    flashed.add(neighbour)\n",
    "        flashed.add(pos)\n",
    "    if new_to_flash:\n",
    "        return flash(map, flashed, new_to_flash)\n",
    "    return map, flashed"
   ]
  },
  {
   "cell_type": "code",
   "execution_count": 4,
   "id": "c8172faf",
   "metadata": {},
   "outputs": [],
   "source": [
    "def step(map):\n",
    "    map = {pos: (cell + 1) % 10 for pos, cell in map.items()}\n",
    "    to_flash = {pos for pos, cell in map.items() if cell == 0}\n",
    "    flashed = set()\n",
    "    return flash(map, flashed, to_flash)"
   ]
  },
  {
   "cell_type": "code",
   "execution_count": 5,
   "id": "6c3c7383",
   "metadata": {},
   "outputs": [],
   "source": [
    "def display_map():\n",
    "    max_x = max(p[0] for p in map)\n",
    "    max_y = max(p[1] for p in map)\n",
    "    \n",
    "    for y in range(max_x + 1):\n",
    "        for x in range(max_y + 1):\n",
    "            print(map[(x, y)], end='')\n",
    "        print()"
   ]
  },
  {
   "cell_type": "code",
   "execution_count": 6,
   "id": "04f0c70f",
   "metadata": {
    "scrolled": false
   },
   "outputs": [
    {
     "name": "stdout",
     "output_type": "stream",
     "text": [
      "Part 1:\n",
      "1713\n"
     ]
    }
   ],
   "source": [
    "f = 0\n",
    "for i in range(1, 101):\n",
    "    map, flashed = step(map)\n",
    "    f += len(flashed)\n",
    "print(\"Part 1:\")\n",
    "print(f)"
   ]
  },
  {
   "cell_type": "code",
   "execution_count": 7,
   "id": "dcd0b3ba",
   "metadata": {},
   "outputs": [
    {
     "name": "stdout",
     "output_type": "stream",
     "text": [
      "Part 2:\n",
      "502\n"
     ]
    }
   ],
   "source": [
    "while True:\n",
    "    map, flashed = step(map)\n",
    "    i += 1\n",
    "    if len(set(map.values())) == 1:\n",
    "        break\n",
    "    \n",
    "print(\"Part 2:\")\n",
    "print(i)"
   ]
  }
 ],
 "metadata": {
  "kernelspec": {
   "display_name": "Python 3",
   "language": "python",
   "name": "python3"
  },
  "language_info": {
   "codemirror_mode": {
    "name": "ipython",
    "version": 3
   },
   "file_extension": ".py",
   "mimetype": "text/x-python",
   "name": "python",
   "nbconvert_exporter": "python",
   "pygments_lexer": "ipython3",
   "version": "3.10.0"
  }
 },
 "nbformat": 4,
 "nbformat_minor": 5
}
