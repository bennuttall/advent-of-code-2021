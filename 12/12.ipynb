{
 "cells": [
  {
   "cell_type": "code",
   "execution_count": 1,
   "id": "ef13f1d9",
   "metadata": {},
   "outputs": [],
   "source": [
    "from collections import defaultdict\n",
    "\n",
    "map = defaultdict(set)\n",
    "with open('input') as f:\n",
    "    for line in f:\n",
    "        a, b = line.strip().split('-')\n",
    "        if a != 'end' and b != 'start':\n",
    "            map[a].add(b)\n",
    "        if a != 'start' and b != 'end':\n",
    "            map[b].add(a)"
   ]
  },
  {
   "cell_type": "code",
   "execution_count": 2,
   "id": "7540a97d",
   "metadata": {},
   "outputs": [],
   "source": [
    "from collections import Counter\n",
    "\n",
    "def get_options(pos, route, part_2=False):\n",
    "    c = Counter([c for c in route if c != 'start' and c.lower() == c])\n",
    "    if part_2 and 2 not in set(c.values()):\n",
    "        return map[pos]\n",
    "    else:\n",
    "        visited = {p for p in route if p.lower() == p}\n",
    "        return map[pos] - visited"
   ]
  },
  {
   "cell_type": "code",
   "execution_count": 3,
   "id": "bbe4c0fb",
   "metadata": {},
   "outputs": [],
   "source": [
    "def get_routes(pos, route=None, part_2=False):\n",
    "    if route is None:\n",
    "        route = []\n",
    "    route.append(pos)\n",
    "    if pos == 'end':\n",
    "        yield route\n",
    "        return\n",
    "    options = get_options(pos, route, part_2)\n",
    "    if len(options) == 0:\n",
    "        return\n",
    "    for next_pos in options:\n",
    "        yield from get_routes(next_pos, list(route), part_2)"
   ]
  },
  {
   "cell_type": "code",
   "execution_count": 4,
   "id": "35acd5dc",
   "metadata": {
    "scrolled": true
   },
   "outputs": [
    {
     "name": "stdout",
     "output_type": "stream",
     "text": [
      "Part 1:\n",
      "4411\n"
     ]
    }
   ],
   "source": [
    "print(\"Part 1:\")\n",
    "print(len(list(get_routes('start'))))"
   ]
  },
  {
   "cell_type": "code",
   "execution_count": 5,
   "id": "8f024c88",
   "metadata": {},
   "outputs": [
    {
     "name": "stdout",
     "output_type": "stream",
     "text": [
      "Part 2:\n",
      "136767\n"
     ]
    }
   ],
   "source": [
    "print(\"Part 2:\")\n",
    "print(len(list(get_routes('start', part_2=True))))"
   ]
  }
 ],
 "metadata": {
  "kernelspec": {
   "display_name": "Python 3",
   "language": "python",
   "name": "python3"
  },
  "language_info": {
   "codemirror_mode": {
    "name": "ipython",
    "version": 3
   },
   "file_extension": ".py",
   "mimetype": "text/x-python",
   "name": "python",
   "nbconvert_exporter": "python",
   "pygments_lexer": "ipython3",
   "version": "3.10.0"
  }
 },
 "nbformat": 4,
 "nbformat_minor": 5
}
