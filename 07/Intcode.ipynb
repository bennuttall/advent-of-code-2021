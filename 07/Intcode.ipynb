{
 "cells": [
  {
   "cell_type": "code",
   "execution_count": 1,
   "id": "dd91e548",
   "metadata": {},
   "outputs": [],
   "source": [
    "with open('input') as f:\n",
    "    positions = [int(n) for n in f.read().split(',')]"
   ]
  },
  {
   "cell_type": "code",
   "execution_count": 2,
   "id": "1437830b",
   "metadata": {},
   "outputs": [],
   "source": [
    "def process_intcode(intcode):\n",
    "    intcode = {i: instruction for i, instruction in enumerate(intcode)}\n",
    "    outputs = []\n",
    "    relative_base = 0\n",
    "    i = 0\n",
    "    while True:\n",
    "        initial = str(intcode.get(i, 0)).rjust(5, '0')\n",
    "        a, b, c, *opcode = initial\n",
    "        opcode = int(''.join(opcode))\n",
    "        assert opcode in (1, 2, 3, 4, 5, 6, 7, 8, 9, 99), opcode\n",
    "        \n",
    "        if opcode == 99:\n",
    "            return outputs\n",
    "\n",
    "        if c == '0':\n",
    "            p1 = intcode.get(i + 1, 0)\n",
    "        elif c == '1':\n",
    "            p1 = i + 1 \n",
    "        elif c == '2':\n",
    "            p1 = intcode.get(i + 1, 0) + relative_base\n",
    "\n",
    "        if b == '0':\n",
    "            p2 = intcode.get(i + 2, 0)\n",
    "        elif b == '1':\n",
    "            p2 = i + 2\n",
    "        elif b == '2':\n",
    "            p2 = intcode.get(i + 2, 0) + relative_base\n",
    "\n",
    "        if a == '0':\n",
    "            p3 = intcode.get(i + 3, 0)\n",
    "        elif a == '1':\n",
    "            p3 = i + 3\n",
    "        elif a == '2':\n",
    "            p3 = intcode.get(i + 3, 0) + relative_base\n",
    "\n",
    "        if opcode == 1:\n",
    "            intcode[p3] = intcode.get(p1, 0) + intcode.get(p2, 0)\n",
    "            i += 4\n",
    "        elif opcode == 2:\n",
    "            intcode[p3] = intcode.get(p1, 0) * intcode.get(p2, 0)\n",
    "            i += 4\n",
    "        elif opcode == 3:\n",
    "            raise\n",
    "            intcode[p1] = 0\n",
    "            i += 2\n",
    "        elif opcode == 4:\n",
    "            outputs.append(intcode.get(p1, 0))\n",
    "            i += 2\n",
    "        elif opcode == 5:\n",
    "            if intcode.get(p1, 0) != 0:\n",
    "                i = intcode.get(p2, 0)\n",
    "            else:\n",
    "                i += 3\n",
    "        elif opcode == 6:\n",
    "            if intcode.get(p1, 0) == 0:\n",
    "                i = intcode.get(p2, 0)\n",
    "            else:\n",
    "                i += 3\n",
    "        elif opcode == 7:\n",
    "            intcode[p3] = 1 if intcode.get(p1, 0) < intcode.get(p2, 0) else 0\n",
    "            i += 4\n",
    "        elif opcode == 8:\n",
    "            intcode[p3] = 1 if intcode.get(p1, 0) == intcode.get(p2, 0) else 0\n",
    "            i += 4\n",
    "        elif opcode == 9:\n",
    "            relative_base += intcode.get(p1, 0)\n",
    "            i += 2"
   ]
  },
  {
   "cell_type": "code",
   "execution_count": 3,
   "id": "a41185c7",
   "metadata": {},
   "outputs": [],
   "source": [
    "outputs = process_intcode(positions)"
   ]
  },
  {
   "cell_type": "code",
   "execution_count": 4,
   "id": "70a32583",
   "metadata": {},
   "outputs": [
    {
     "name": "stdout",
     "output_type": "stream",
     "text": [
      "Ceci n'est pas une intcode program\n",
      "\n"
     ]
    }
   ],
   "source": [
    "print(''.join(chr(o) for o in outputs))"
   ]
  }
 ],
 "metadata": {
  "kernelspec": {
   "display_name": "Python 3",
   "language": "python",
   "name": "python3"
  },
  "language_info": {
   "codemirror_mode": {
    "name": "ipython",
    "version": 3
   },
   "file_extension": ".py",
   "mimetype": "text/x-python",
   "name": "python",
   "nbconvert_exporter": "python",
   "pygments_lexer": "ipython3",
   "version": "3.10.0"
  }
 },
 "nbformat": 4,
 "nbformat_minor": 5
}
