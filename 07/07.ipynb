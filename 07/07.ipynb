{
 "cells": [
  {
   "cell_type": "code",
   "execution_count": 1,
   "id": "ef13f1d9",
   "metadata": {},
   "outputs": [],
   "source": [
    "with open('input') as f:\n",
    "    positions = [int(n) for n in f.read().split(',')]"
   ]
  },
  {
   "cell_type": "code",
   "execution_count": 2,
   "id": "4b0bdbc6",
   "metadata": {},
   "outputs": [
    {
     "name": "stdout",
     "output_type": "stream",
     "text": [
      "Part 1:\n",
      "356179\n"
     ]
    }
   ],
   "source": [
    "m = 999999999\n",
    "for i in range(max(positions)):\n",
    "    s = sum(abs(i - n) for n in positions)\n",
    "    m = min([s, m])\n",
    "print(\"Part 1:\")\n",
    "print(m)"
   ]
  },
  {
   "cell_type": "code",
   "execution_count": 3,
   "id": "6e16764e",
   "metadata": {},
   "outputs": [],
   "source": [
    "def inc_sum(num):\n",
    "    s = num\n",
    "    for i in range(num):\n",
    "        s += i\n",
    "    return s"
   ]
  },
  {
   "cell_type": "code",
   "execution_count": 4,
   "id": "9c7eee5f",
   "metadata": {},
   "outputs": [
    {
     "name": "stdout",
     "output_type": "stream",
     "text": [
      "Part 2:\n",
      "99788435\n"
     ]
    }
   ],
   "source": [
    "m = 999999999\n",
    "for i in range(max(positions)):\n",
    "    d = sum(inc_sum(abs(i - n)) for n in positions)\n",
    "    m = min([d, m])\n",
    "print(\"Part 2:\")\n",
    "print(m)"
   ]
  }
 ],
 "metadata": {
  "kernelspec": {
   "display_name": "Python 3",
   "language": "python",
   "name": "python3"
  },
  "language_info": {
   "codemirror_mode": {
    "name": "ipython",
    "version": 3
   },
   "file_extension": ".py",
   "mimetype": "text/x-python",
   "name": "python",
   "nbconvert_exporter": "python",
   "pygments_lexer": "ipython3",
   "version": "3.10.0"
  }
 },
 "nbformat": 4,
 "nbformat_minor": 5
}
