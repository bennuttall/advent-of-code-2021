{
 "cells": [
  {
   "cell_type": "code",
   "execution_count": 1,
   "id": "ef13f1d9",
   "metadata": {},
   "outputs": [],
   "source": [
    "with open('input') as f:\n",
    "    positions = [int(n) for n in f.read().split(',')]"
   ]
  },
  {
   "cell_type": "code",
   "execution_count": 2,
   "id": "97034652",
   "metadata": {
    "scrolled": true
   },
   "outputs": [
    {
     "name": "stdout",
     "output_type": "stream",
     "text": [
      "Part 1:\n",
      "356179\n"
     ]
    }
   ],
   "source": [
    "from statistics import mean\n",
    "from math import inf\n",
    "\n",
    "avg = round(mean(positions))\n",
    "\n",
    "m = inf\n",
    "for i in range(avg):\n",
    "    s = sum(abs(i - n) for n in positions)\n",
    "    m = min([s, m])\n",
    "print(\"Part 1:\")\n",
    "print(m)"
   ]
  },
  {
   "cell_type": "code",
   "execution_count": 3,
   "id": "16b19437",
   "metadata": {},
   "outputs": [],
   "source": [
    "def inc_sum(n, i):\n",
    "    d = abs(n - i)\n",
    "    return d * (d + 1) // 2"
   ]
  },
  {
   "cell_type": "code",
   "execution_count": 4,
   "id": "9e0ab991",
   "metadata": {},
   "outputs": [
    {
     "name": "stdout",
     "output_type": "stream",
     "text": [
      "Part 2:\n",
      "99788435\n"
     ]
    }
   ],
   "source": [
    "m = inf\n",
    "for i in range(avg):\n",
    "    d = sum(inc_sum(n, i) for n in positions)\n",
    "    m = min([d, m])\n",
    "print(\"Part 2:\")\n",
    "print(m)"
   ]
  }
 ],
 "metadata": {
  "kernelspec": {
   "display_name": "Python 3",
   "language": "python",
   "name": "python3"
  },
  "language_info": {
   "codemirror_mode": {
    "name": "ipython",
    "version": 3
   },
   "file_extension": ".py",
   "mimetype": "text/x-python",
   "name": "python",
   "nbconvert_exporter": "python",
   "pygments_lexer": "ipython3",
   "version": "3.10.0"
  }
 },
 "nbformat": 4,
 "nbformat_minor": 5
}
