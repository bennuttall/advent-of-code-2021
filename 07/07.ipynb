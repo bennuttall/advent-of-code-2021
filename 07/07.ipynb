{
 "cells": [
  {
   "cell_type": "code",
   "execution_count": 1,
   "id": "ef13f1d9",
   "metadata": {},
   "outputs": [],
   "source": [
    "with open('input') as f:\n",
    "    positions = [int(n) for n in f.read().split(',')]"
   ]
  },
  {
   "cell_type": "code",
   "execution_count": 2,
   "id": "97034652",
   "metadata": {
    "scrolled": true
   },
   "outputs": [
    {
     "name": "stdout",
     "output_type": "stream",
     "text": [
      "Part 1:\n",
      "356179\n"
     ]
    }
   ],
   "source": [
    "from statistics import median\n",
    "\n",
    "avg = round(median(positions))\n",
    "s = sum(abs(avg - n) for n in positions)\n",
    "print(\"Part 1:\")\n",
    "print(s)"
   ]
  },
  {
   "cell_type": "code",
   "execution_count": 3,
   "id": "16b19437",
   "metadata": {},
   "outputs": [],
   "source": [
    "def inc_sum(n):\n",
    "    return n * (n + 1) // 2"
   ]
  },
  {
   "cell_type": "code",
   "execution_count": 4,
   "id": "9e0ab991",
   "metadata": {},
   "outputs": [
    {
     "name": "stdout",
     "output_type": "stream",
     "text": [
      "Part 2:\n",
      "99788435\n"
     ]
    }
   ],
   "source": [
    "from statistics import mean\n",
    "from math import inf\n",
    "\n",
    "avg = round(mean(positions))\n",
    "m = inf\n",
    "for i in range(max(positions)):\n",
    "    d = sum(inc_sum(abs(n - i)) for n in positions)\n",
    "    m = min([d, m])\n",
    "    \n",
    "print(\"Part 2:\")\n",
    "print(m)"
   ]
  }
 ],
 "metadata": {
  "kernelspec": {
   "display_name": "Python 3",
   "language": "python",
   "name": "python3"
  },
  "language_info": {
   "codemirror_mode": {
    "name": "ipython",
    "version": 3
   },
   "file_extension": ".py",
   "mimetype": "text/x-python",
   "name": "python",
   "nbconvert_exporter": "python",
   "pygments_lexer": "ipython3",
   "version": "3.10.0"
  }
 },
 "nbformat": 4,
 "nbformat_minor": 5
}
