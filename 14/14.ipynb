{
 "cells": [
  {
   "cell_type": "code",
   "execution_count": 1,
   "id": "ef13f1d9",
   "metadata": {},
   "outputs": [],
   "source": [
    "from collections import defaultdict\n",
    "from itertools import pairwise\n",
    "\n",
    "with open('input') as f:\n",
    "    orig_str = next(f).strip()\n",
    "    d = defaultdict(int)\n",
    "    for pair in pairwise(orig_str):\n",
    "        d[''.join(pair)] += 1\n",
    "        \n",
    "    next(f)\n",
    "    map = {\n",
    "        k: (k[0] + v, v + k[1])\n",
    "        for k, v in {\n",
    "            line.strip().split(' -> ')[0]: line.strip().split(' -> ')[1]\n",
    "            for line in f\n",
    "        }.items()\n",
    "    }"
   ]
  },
  {
   "cell_type": "code",
   "execution_count": 2,
   "id": "f7660370",
   "metadata": {},
   "outputs": [],
   "source": [
    "def step(d):\n",
    "    new_d = defaultdict(int)\n",
    "    for k, v in d.items():\n",
    "        if k in map:\n",
    "            for s in map[k]:\n",
    "                new_d[s] += v\n",
    "    return dict(new_d)"
   ]
  },
  {
   "cell_type": "code",
   "execution_count": 3,
   "id": "ebd51f6a",
   "metadata": {},
   "outputs": [],
   "source": [
    "for i in range(1, 41):\n",
    "    d = step(d)\n",
    "    if i == 10:\n",
    "        p1 = d\n",
    "p2 = d"
   ]
  },
  {
   "cell_type": "code",
   "execution_count": 4,
   "id": "c151b9f6",
   "metadata": {},
   "outputs": [],
   "source": [
    "def dict_counter(d):\n",
    "    c = defaultdict(int)\n",
    "    c[orig_str[0]] += 1\n",
    "    c[orig_str[-1]] += 1\n",
    "    for (c1, c2), v in d.items():\n",
    "        c[c1] += v\n",
    "        c[c2] += v\n",
    "    return {k: v//2 for k, v in c.items()}"
   ]
  },
  {
   "cell_type": "code",
   "execution_count": 5,
   "id": "9173a5b2",
   "metadata": {},
   "outputs": [
    {
     "name": "stdout",
     "output_type": "stream",
     "text": [
      "Part 1:\n",
      "2360\n"
     ]
    }
   ],
   "source": [
    "c = dict_counter(p1)\n",
    "print(\"Part 1:\")\n",
    "print(max(c.values()) - min(c.values()))"
   ]
  },
  {
   "cell_type": "code",
   "execution_count": 6,
   "id": "84447c12",
   "metadata": {},
   "outputs": [
    {
     "name": "stdout",
     "output_type": "stream",
     "text": [
      "Part 2:\n",
      "2967977072188\n"
     ]
    }
   ],
   "source": [
    "c = dict_counter(p2)\n",
    "print(\"Part 2:\")\n",
    "print(max(c.values()) - min(c.values()))"
   ]
  }
 ],
 "metadata": {
  "kernelspec": {
   "display_name": "Python 3",
   "language": "python",
   "name": "python3"
  },
  "language_info": {
   "codemirror_mode": {
    "name": "ipython",
    "version": 3
   },
   "file_extension": ".py",
   "mimetype": "text/x-python",
   "name": "python",
   "nbconvert_exporter": "python",
   "pygments_lexer": "ipython3",
   "version": "3.10.1"
  }
 },
 "nbformat": 4,
 "nbformat_minor": 5
}
