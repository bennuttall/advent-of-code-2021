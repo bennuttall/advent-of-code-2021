{
 "cells": [
  {
   "cell_type": "code",
   "execution_count": 1,
   "id": "ef13f1d9",
   "metadata": {},
   "outputs": [],
   "source": [
    "map = {}\n",
    "with open('input') as f:\n",
    "    for y, line in enumerate(f):\n",
    "        for x, char in enumerate(line.strip()):\n",
    "            map[(x, y)] = int(char)\n",
    "max_x, max_y = x, y"
   ]
  },
  {
   "cell_type": "code",
   "execution_count": 2,
   "id": "bf001293",
   "metadata": {},
   "outputs": [],
   "source": [
    "def get_neighbours(x, y):\n",
    "    return {(x, y - 1), (x, y + 1), (x - 1, y), (x + 1, y)}"
   ]
  },
  {
   "cell_type": "code",
   "execution_count": 3,
   "id": "d5df35e7",
   "metadata": {},
   "outputs": [],
   "source": [
    "def is_low_point(x, y):\n",
    "    return all(map.get(pos, 9) > map[(x, y)] for pos in get_neighbours(x, y))"
   ]
  },
  {
   "cell_type": "code",
   "execution_count": 4,
   "id": "eb3c6c1e",
   "metadata": {},
   "outputs": [],
   "source": [
    "def get_low_points():\n",
    "    for y in range(max_y + 1):\n",
    "        for x in range(max_x + 1):\n",
    "            if is_low_point(x, y):\n",
    "                yield (x, y)"
   ]
  },
  {
   "cell_type": "code",
   "execution_count": 5,
   "id": "0b048daa",
   "metadata": {},
   "outputs": [
    {
     "name": "stdout",
     "output_type": "stream",
     "text": [
      "Part 1:\n",
      "506\n"
     ]
    }
   ],
   "source": [
    "print(\"Part 1:\")\n",
    "print(sum(map[pos] + 1 for pos in get_low_points()))"
   ]
  },
  {
   "cell_type": "code",
   "execution_count": 6,
   "id": "14ef0134",
   "metadata": {},
   "outputs": [],
   "source": [
    "def get_basin(pos):\n",
    "    basin = {pos}\n",
    "    follow(pos, basin)\n",
    "    return basin"
   ]
  },
  {
   "cell_type": "code",
   "execution_count": 7,
   "id": "f6fc5cdc",
   "metadata": {},
   "outputs": [],
   "source": [
    "def follow(pos, basin):\n",
    "    x, y = pos\n",
    "    p1 = map[pos]\n",
    "    for neighbour in get_neighbours(x, y):\n",
    "        p2 = map.get(neighbour, 0)\n",
    "        if p2 > p1 and p2 != 9:\n",
    "            basin.add(neighbour)\n",
    "            follow(neighbour, basin)"
   ]
  },
  {
   "cell_type": "code",
   "execution_count": 8,
   "id": "07ed5bec",
   "metadata": {
    "scrolled": false
   },
   "outputs": [
    {
     "name": "stdout",
     "output_type": "stream",
     "text": [
      "Part 2:\n",
      "931200\n"
     ]
    }
   ],
   "source": [
    "p = 1\n",
    "for x in sorted(len(get_basin(pos)) for pos in get_low_points())[-3:]:\n",
    "    p *= x\n",
    "\n",
    "print(\"Part 2:\")\n",
    "print(p)"
   ]
  }
 ],
 "metadata": {
  "kernelspec": {
   "display_name": "Python 3",
   "language": "python",
   "name": "python3"
  },
  "language_info": {
   "codemirror_mode": {
    "name": "ipython",
    "version": 3
   },
   "file_extension": ".py",
   "mimetype": "text/x-python",
   "name": "python",
   "nbconvert_exporter": "python",
   "pygments_lexer": "ipython3",
   "version": "3.10.0"
  }
 },
 "nbformat": 4,
 "nbformat_minor": 5
}
