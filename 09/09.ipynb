{
 "cells": [
  {
   "cell_type": "code",
   "execution_count": 1,
   "id": "ef13f1d9",
   "metadata": {},
   "outputs": [],
   "source": [
    "map = {}\n",
    "with open('input') as f:\n",
    "    for y, line in enumerate(f):\n",
    "        for x, char in enumerate(line.strip()):\n",
    "            map[(x, y)] = int(char)"
   ]
  },
  {
   "cell_type": "code",
   "execution_count": 2,
   "id": "48511278",
   "metadata": {},
   "outputs": [],
   "source": [
    "def get_neighbours(x, y):\n",
    "    return {(x, y - 1), (x, y + 1), (x - 1, y), (x + 1, y)}"
   ]
  },
  {
   "cell_type": "code",
   "execution_count": 3,
   "id": "a77f7845",
   "metadata": {},
   "outputs": [],
   "source": [
    "def is_low_point(x, y):\n",
    "    return all(map.get(pos, 9) > map[(x, y)] for pos in get_neighbours(x, y))"
   ]
  },
  {
   "cell_type": "code",
   "execution_count": 4,
   "id": "4d6bfc1a",
   "metadata": {},
   "outputs": [],
   "source": [
    "def get_low_points():\n",
    "    return [(x, y) for x, y in map if is_low_point(x, y)]"
   ]
  },
  {
   "cell_type": "code",
   "execution_count": 5,
   "id": "401d7f7b",
   "metadata": {},
   "outputs": [
    {
     "name": "stdout",
     "output_type": "stream",
     "text": [
      "Part 1:\n",
      "506\n"
     ]
    }
   ],
   "source": [
    "print(\"Part 1:\")\n",
    "print(sum(map[pos] + 1 for pos in get_low_points()))"
   ]
  },
  {
   "cell_type": "code",
   "execution_count": 6,
   "id": "fb45cece",
   "metadata": {},
   "outputs": [],
   "source": [
    "def get_basin(pos):\n",
    "    basin = {pos}\n",
    "    follow(pos, basin)\n",
    "    return basin"
   ]
  },
  {
   "cell_type": "code",
   "execution_count": 7,
   "id": "1496a9e6",
   "metadata": {},
   "outputs": [],
   "source": [
    "def follow(pos, basin):\n",
    "    x, y = pos\n",
    "    p1 = map[pos]\n",
    "    for neighbour in get_neighbours(x, y):\n",
    "        p2 = map.get(neighbour, 0)\n",
    "        if p1 < p2 < 9:\n",
    "            basin.add(neighbour)\n",
    "            follow(neighbour, basin)"
   ]
  },
  {
   "cell_type": "code",
   "execution_count": 8,
   "id": "baa5f15b",
   "metadata": {
    "scrolled": false
   },
   "outputs": [
    {
     "name": "stdout",
     "output_type": "stream",
     "text": [
      "Part 2:\n",
      "931200\n"
     ]
    }
   ],
   "source": [
    "from math import prod\n",
    "\n",
    "print(\"Part 2:\")\n",
    "print(prod(sorted(len(get_basin(pos)) for pos in get_low_points())[-3:]))"
   ]
  }
 ],
 "metadata": {
  "kernelspec": {
   "display_name": "Python 3",
   "language": "python",
   "name": "python3"
  },
  "language_info": {
   "codemirror_mode": {
    "name": "ipython",
    "version": 3
   },
   "file_extension": ".py",
   "mimetype": "text/x-python",
   "name": "python",
   "nbconvert_exporter": "python",
   "pygments_lexer": "ipython3",
   "version": "3.10.0"
  }
 },
 "nbformat": 4,
 "nbformat_minor": 5
}
