{
 "cells": [
  {
   "cell_type": "code",
   "execution_count": 1,
   "id": "e2aeb775",
   "metadata": {},
   "outputs": [],
   "source": [
    "def process_lines(f, diag=False):\n",
    "    for line in f:\n",
    "        (x1, y1), (x2, y2) = [l.split(',') for l in line.split(' -> ')]\n",
    "        x1 = int(x1)\n",
    "        x2 = int(x2)\n",
    "        y1 = int(y1)\n",
    "        y2 = int(y2)\n",
    "        if x1 == x2:\n",
    "            if y1 > y2:\n",
    "                y1, y2 = y2, y1\n",
    "            yield set([(x1, y) for y in range(y1, y2 + 1)])\n",
    "        elif y1 == y2:\n",
    "            if x1 > x2:\n",
    "                x1, x2 = x2, x1\n",
    "            yield set([(x, y1) for x in range(x1, x2 + 1)])\n",
    "        elif diag:\n",
    "            if x1 > x2:\n",
    "                x1, x2 = x2, x1\n",
    "                y1, y2 = y2, y1\n",
    "            if y2 > y1:\n",
    "                yield set([(x1 + n, y1 + n) for n in range(x2 + 1 - x1)])\n",
    "            else:\n",
    "                yield set([(x1 + n, y1 - n) for n in range(x2 + 1 - x1)])"
   ]
  },
  {
   "cell_type": "code",
   "execution_count": 2,
   "id": "ef13f1d9",
   "metadata": {
    "scrolled": false
   },
   "outputs": [],
   "source": [
    "with open('input') as f:\n",
    "    fc = list(f)\n",
    "    lines_hv = list(process_lines(fc, diag=False))\n",
    "    all_lines = list(process_lines(fc, diag=True))"
   ]
  },
  {
   "cell_type": "code",
   "execution_count": 3,
   "id": "7bc9378c",
   "metadata": {},
   "outputs": [
    {
     "name": "stdout",
     "output_type": "stream",
     "text": [
      "Part 1:\n",
      "6397\n"
     ]
    }
   ],
   "source": [
    "grid = set()\n",
    "overlap = set()\n",
    "for line in lines_hv:\n",
    "    overlap |= grid & line\n",
    "    grid |= line\n",
    "\n",
    "print(\"Part 1:\")\n",
    "print(len(overlap))"
   ]
  },
  {
   "cell_type": "code",
   "execution_count": 4,
   "id": "2f1abba3",
   "metadata": {},
   "outputs": [
    {
     "name": "stdout",
     "output_type": "stream",
     "text": [
      "Part 2:\n",
      "22335\n"
     ]
    }
   ],
   "source": [
    "grid = set()\n",
    "overlap = set()\n",
    "for line in all_lines:\n",
    "    overlap |= grid & line\n",
    "    grid |= line\n",
    "\n",
    "print(\"Part 2:\")\n",
    "print(len(overlap))"
   ]
  }
 ],
 "metadata": {
  "kernelspec": {
   "display_name": "Python 3",
   "language": "python",
   "name": "python3"
  },
  "language_info": {
   "codemirror_mode": {
    "name": "ipython",
    "version": 3
   },
   "file_extension": ".py",
   "mimetype": "text/x-python",
   "name": "python",
   "nbconvert_exporter": "python",
   "pygments_lexer": "ipython3",
   "version": "3.10.0"
  }
 },
 "nbformat": 4,
 "nbformat_minor": 5
}
