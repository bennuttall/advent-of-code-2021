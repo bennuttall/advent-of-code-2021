{
 "cells": [
  {
   "cell_type": "code",
   "execution_count": 1,
   "id": "94ab46d2",
   "metadata": {},
   "outputs": [],
   "source": [
    "def get_vector(p1, p2):\n",
    "    if p1 > p2:\n",
    "        return -1\n",
    "    elif p2 > p1:\n",
    "        return 1\n",
    "    return 0"
   ]
  },
  {
   "cell_type": "code",
   "execution_count": 2,
   "id": "e2aeb775",
   "metadata": {},
   "outputs": [],
   "source": [
    "def process_lines(lines, diag=False):\n",
    "    for line in lines:\n",
    "        (x1, y1), (x2, y2) = [l.split(',') for l in line.split(' -> ')]\n",
    "        x1, y1, x2, y2 = [int(n) for n in (x1, y1, x2, y2)]\n",
    "        dx = get_vector(x1, x2)\n",
    "        dy = get_vector(y1, y2)\n",
    "        steps = max([abs(x2 - x1), abs(y2 - y1)])\n",
    "        hv = dx == 0 or dy == 0\n",
    "        if hv or diag:\n",
    "            yield {(x1 + (n * dx), y1 + (n * dy)) for n in range(steps + 1)}"
   ]
  },
  {
   "cell_type": "code",
   "execution_count": 3,
   "id": "ef13f1d9",
   "metadata": {
    "scrolled": false
   },
   "outputs": [],
   "source": [
    "with open('input') as f:\n",
    "    lines = list(f)\n",
    "    lines_hv = list(process_lines(lines, diag=False))\n",
    "    all_lines = list(process_lines(lines, diag=True))"
   ]
  },
  {
   "cell_type": "code",
   "execution_count": 4,
   "id": "7bc9378c",
   "metadata": {},
   "outputs": [
    {
     "name": "stdout",
     "output_type": "stream",
     "text": [
      "Part 1:\n",
      "6397\n"
     ]
    }
   ],
   "source": [
    "grid = set()\n",
    "overlap = set()\n",
    "for line in lines_hv:\n",
    "    overlap |= grid & line\n",
    "    grid |= line\n",
    "\n",
    "print(\"Part 1:\")\n",
    "print(len(overlap))"
   ]
  },
  {
   "cell_type": "code",
   "execution_count": 5,
   "id": "2f1abba3",
   "metadata": {},
   "outputs": [
    {
     "name": "stdout",
     "output_type": "stream",
     "text": [
      "Part 2:\n",
      "22335\n"
     ]
    }
   ],
   "source": [
    "grid = set()\n",
    "overlap = set()\n",
    "for line in all_lines:\n",
    "    overlap |= grid & line\n",
    "    grid |= line\n",
    "\n",
    "print(\"Part 2:\")\n",
    "print(len(overlap))"
   ]
  }
 ],
 "metadata": {
  "kernelspec": {
   "display_name": "Python 3",
   "language": "python",
   "name": "python3"
  },
  "language_info": {
   "codemirror_mode": {
    "name": "ipython",
    "version": 3
   },
   "file_extension": ".py",
   "mimetype": "text/x-python",
   "name": "python",
   "nbconvert_exporter": "python",
   "pygments_lexer": "ipython3",
   "version": "3.10.0"
  }
 },
 "nbformat": 4,
 "nbformat_minor": 5
}
