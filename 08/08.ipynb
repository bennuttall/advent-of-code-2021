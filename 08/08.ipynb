{
 "cells": [
  {
   "cell_type": "code",
   "execution_count": 1,
   "id": "4e71e1bc",
   "metadata": {},
   "outputs": [],
   "source": [
    "with open('input') as f:\n",
    "    data = [[s.split() for s in line.strip().split(' | ')] for line in f]"
   ]
  },
  {
   "cell_type": "code",
   "execution_count": 2,
   "id": "901e1396",
   "metadata": {},
   "outputs": [
    {
     "name": "stdout",
     "output_type": "stream",
     "text": [
      "Part 1:\n",
      "342\n"
     ]
    }
   ],
   "source": [
    "output_values = [d[1] for d in data]\n",
    "\n",
    "c = 0\n",
    "for dat in data:\n",
    "    for d in dat[1]:\n",
    "        if len(d) in (2, 3, 4, 7):\n",
    "            c += 1\n",
    "print(\"Part 1:\")\n",
    "print(c)"
   ]
  },
  {
   "cell_type": "code",
   "execution_count": 3,
   "id": "d66fe4a2",
   "metadata": {},
   "outputs": [],
   "source": [
    "DIGITS = {\n",
    "    0: {'A', 'B', 'C',      'E', 'F', 'G'},\n",
    "    1: {          'C',           'F'     },\n",
    "    2: {'A',      'C', 'D', 'E',      'G'},\n",
    "    3: {'A',      'C', 'D',      'F', 'G'},\n",
    "    4: {     'B', 'C', 'D',      'F'     },\n",
    "    5: {'A', 'B',      'D',      'F', 'G'},\n",
    "    6: {'A', 'B',      'D', 'E', 'F', 'G'},\n",
    "    7: {'A',      'C',           'F'     },\n",
    "    8: {'A', 'B', 'C', 'D', 'E', 'F', 'G'},\n",
    "    9: {'A', 'B', 'C', 'D',      'F', 'G'},\n",
    "}"
   ]
  },
  {
   "cell_type": "code",
   "execution_count": 4,
   "id": "1d8a2028",
   "metadata": {},
   "outputs": [],
   "source": [
    "DIGITS_REV = {\n",
    "    ''.join(sorted(v)): str(k)\n",
    "    for k, v in DIGITS.items()\n",
    "}"
   ]
  },
  {
   "cell_type": "code",
   "execution_count": 5,
   "id": "572363b8",
   "metadata": {},
   "outputs": [],
   "source": [
    "def translate(p, digits):\n",
    "    a, b, c, d, e, f, g = p\n",
    "    x = {\n",
    "        a: 'A',\n",
    "        b: 'B',\n",
    "        c: 'C',\n",
    "        d: 'D',\n",
    "        e: 'E',\n",
    "        f: 'F',\n",
    "        g: 'G',\n",
    "    }\n",
    "    trans = ''.maketrans(x)\n",
    "    \n",
    "    for d in digits:\n",
    "        yield ''.join(sorted(d.translate(trans)))"
   ]
  },
  {
   "cell_type": "code",
   "execution_count": 6,
   "id": "ed6c096d",
   "metadata": {},
   "outputs": [],
   "source": [
    "VALID_DIGITS = {''.join(sorted(v)) for v in DIGITS.values()}\n",
    "\n",
    "def test(p, digits):\n",
    "    return all(s in VALID_DIGITS for s in translate(p, digits))"
   ]
  },
  {
   "cell_type": "code",
   "execution_count": 7,
   "id": "ac967932",
   "metadata": {},
   "outputs": [
    {
     "name": "stdout",
     "output_type": "stream",
     "text": [
      "Part 2:\n",
      "1068933\n"
     ]
    }
   ],
   "source": [
    "from itertools import permutations\n",
    "\n",
    "s = 0\n",
    "for digits, nums in data:\n",
    "    for p in permutations('abcdefg'):\n",
    "        if test(p, digits):\n",
    "            s += int(''.join(DIGITS_REV[s] for s in translate(p, nums)))\n",
    "            break\n",
    "\n",
    "print(\"Part 2:\")\n",
    "print(s)"
   ]
  }
 ],
 "metadata": {
  "kernelspec": {
   "display_name": "Python 3",
   "language": "python",
   "name": "python3"
  },
  "language_info": {
   "codemirror_mode": {
    "name": "ipython",
    "version": 3
   },
   "file_extension": ".py",
   "mimetype": "text/x-python",
   "name": "python",
   "nbconvert_exporter": "python",
   "pygments_lexer": "ipython3",
   "version": "3.10.0"
  }
 },
 "nbformat": 4,
 "nbformat_minor": 5
}
